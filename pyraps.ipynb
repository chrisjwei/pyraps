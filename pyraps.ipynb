{
 "cells": [
  {
   "cell_type": "markdown",
   "metadata": {
    "collapsed": true
   },
   "source": [
    "# pyraps\n",
    "\n",
    "For our final project, we will be attempting to classify rap styles based on song lyrics. We will be using a subsection of rap music published in the 1990's, where rap style from different geographical regions were distinct, which differs from modern rap music has become more of an almalgamation of the three main rap styles. The two main geographical regions we will be looking at are east-coast (New York City), west-coast (Los Angeles) - we may extend this to further classify more modern movements such as southern (Atlanta) and midwest (Detroit).\n",
    "\n",
    "Our project consists of three parts.\n",
    "\n",
    "1. Data Collection - We will build a database of lyrics from 1990's rap artists and label them based on the rappers style based on geographical location.\n",
    "2. Creating features - We will create features to capture the rhythm and rhyme of a song, as well as the particular lyrical content and vocabulary.\n",
    "3. Training a classifier - Using our features, we will train different types of classifiers and compare results."
   ]
  },
  {
   "cell_type": "markdown",
   "metadata": {},
   "source": [
    "## Creating Features\n",
    "\n",
    "We will be using two sets of information as features for our machine learning algorithms: lyrical content, in other words the actual words that are being used and the order in which those words occur in, and rhyme patterns along with rhythmic beats, which we will analyze using NLTK."
   ]
  },
  {
   "cell_type": "markdown",
   "metadata": {},
   "source": [
    "### Lyrical Content\n",
    "\n",
    "One easy way to generate features for this is to use a pretrained neural network that specifically handles text and drop the last layer (which converts their learned features to their expected output)."
   ]
  },
  {
   "cell_type": "markdown",
   "metadata": {},
   "source": [
    "### Rhyme Patterns\n",
    "\n",
    "Rhyme patterns are pretty interesting in the way it manifests itself in east-coast versus west-coast rap. East-coast tends to try to create intricate and interlacing rhyme patterns where as west-coast rap focuses more on creating a vibe rather than building intense rhyme structures. We can use this as another feature we can train on to provide better separation"
   ]
  },
  {
   "cell_type": "markdown",
   "metadata": {},
   "source": [
    "Lets take a look at a couple lines from Nas' \"NY State of Mind\", a classic east coast style song\n",
    "\n",
    "1. Rappers I <font color='blue'>monkey</font> <font color='red'>flip em</font> with the <font color='blue'>funky</font> <font color='red'>rhythm</font> I be <font color='red'>kickin'</font>\n",
    "2. <font color='red'>musician</font>, <font color='red'>inflictin</font> <font color='red'>composition</font>\n",
    "3. <font color='green'>of pain</font> I'm like Scarface <font color='red'>sniffin</font> <font color='green'>cocaine</font>\n",
    "4. Holdin a <font color='purple'>M-16</font>, see with the pen <font color='purple'>I'm extreme</font>, now\n",
    "\n",
    "Now lets take a look at a couple lines from 2Pac's California Love, a west coast style song\n",
    "\n",
    "1. Now let me welcome everybody to the wild, wild <font color='red'>west</font>\n",
    "2. A state that's untouchable like Elliot <font color='red'>Ness</font>\n",
    "3. The track hits ya eardrum like a slug to ya <font color='red'>chest</font>\n",
    "4. Pack a <font color='red'>vest</font> for your Jimmy in the city of <font color='red'>sex</font>\n",
    "\n",
    "We can immediately see a difference between the rhyme style between these two styles of rap. East coast tends to have more rhymes in general and focuses a lot more on variety of rhyme patterns interspersed throughout the lines, as opposed to west coast which focuses more on simpler last-word rhymes.\n",
    "\n",
    "How can we do this computationally? We will use CMU's pronuncation dictionary in the NLTK package."
   ]
  },
  {
   "cell_type": "code",
   "execution_count": 1,
   "metadata": {
    "collapsed": false
   },
   "outputs": [],
   "source": [
    "import nltk\n",
    "import pandas as pd\n",
    "import scipy as sp\n",
    "import numpy as np\n",
    "from nltk.corpus import cmudict"
   ]
  },
  {
   "cell_type": "code",
   "execution_count": 2,
   "metadata": {
    "collapsed": false
   },
   "outputs": [
    {
     "name": "stdout",
     "output_type": "stream",
     "text": [
      "(Rappers(R/AE1/P/ER0/Z), I(AY1), monkey(M/AH1/NG/K/IY0), flip(F/L/IH1/P), em(EH1/M), with(W/IH1/DH), the(DH/AH0), funky(F/AH1/NG/K/IY0), rhythm(R/IH1/DH/AH0/M), I(AY1), be(B/IY1), kicking(K/IH1/K/IH0/NG))\n",
      "(musician(M/Y/UW0/Z/IH1/SH/AH0/N), inflicting(IH0/N/F/L/IH1/K/T/IH0/NG), composition(K/AA2/M/P/AH0/Z/IH1/SH/AH0/N))\n",
      "(of(AH1/V), pain(P/EY1/N), I'm(AY1/M), like(L/AY1/K), Scarface(S/K/AA1/R/F/EY2/S), sniffing(S/N/IH1/F/IH0/NG), cocaine(K/OW0/K/EY1/N))\n",
      "(Holding(HH/OW1/L/D/IH0/NG), a(AH0), M-16(?), see(S/IY1), with(W/IH1/DH), the(DH/AH0), pen(P/EH1/N), I'm(AY1/M), extreme(IH0/K/S/T/R/IY1/M), now(N/AW1))\n"
     ]
    }
   ],
   "source": [
    "class Pronunciation(object):\n",
    "    \n",
    "    CMUDICT = cmudict.dict()\n",
    "    \n",
    "    def __init__(self, word):\n",
    "        self.word = word\n",
    "        self.word_lower = word.lower()\n",
    "        if self.word_lower in Pronunciation.CMUDICT:\n",
    "            self.pron = Pronunciation.CMUDICT[self.word_lower][0]\n",
    "            self.syllable_loc = [i for i in xrange(len(self.pron)) if self.pron[i][-1].isdigit()]\n",
    "        else:\n",
    "            self.pron = None\n",
    "            self.syllable_loc = None\n",
    "    def __repr__(self):\n",
    "        if self.pron:\n",
    "            pron_repr =  \"/\".join(self.pron)\n",
    "        else:\n",
    "            pron_repr = \"?\"\n",
    "        return \"%s(%s)\" % (self.word,pron_repr)\n",
    "    \n",
    "    def rhyme_group(self):\n",
    "        if self.syllable_loc == []:\n",
    "            return \"/\".join(self.pron)\n",
    "        elif self.pron == None:\n",
    "            return \"UNKNOWN_GROUP\"\n",
    "        else:\n",
    "            return \"/\".join(self.pron[self.syllable_loc[-1]:])\n",
    "    \n",
    "    def __eq__(self,other):\n",
    "        return self.word_lower == other.word_lower\n",
    "    \n",
    "    def __hash__(self):\n",
    "        return hash(self.word_lower)\n",
    "    \n",
    "        \n",
    "\n",
    "def tokenize(s):\n",
    "    tokenizer = nltk.tokenize.RegexpTokenizer(r\"\\w[\\w-]*'?[\\w-]*\")\n",
    "    tokenized_lines = [tokenizer.tokenize(line) for line in s.split(\"\\n\") if line]\n",
    "    return tuple([tuple([Pronunciation(token) for token in token_line]) for token_line in tokenized_lines])\n",
    "    \n",
    "\n",
    "nas = '''Rappers I monkey flip em with the funky rhythm I be kicking\\nmusician, inflicting composition\\nof pain '''+\\\n",
    "      '''I'm like Scarface sniffing cocaine\\nHolding a M-16, see with the pen I'm extreme, now\\n\\n'''\n",
    "token_lines = tokenize(nas)\n",
    "for line in token_lines:\n",
    "    print line"
   ]
  },
  {
   "cell_type": "markdown",
   "metadata": {},
   "source": [
    "Now we need to define some sort of metric for rhyming words.\n",
    "We know that monkey(M/AH1/NG/K/IY0) rhymes with funky(F/AH1/NG/K/IY0) and is a perfect rhyme. Lets break this down. Monkey has two syllables and thus two stress vowels. These stress vowels mark separations of syllables - monkey can be broken down to (M/AH1/NG) and (K/IY0); funky can be broken down to (F/AH1/NG) and (K/IY0). Immediately, we see that the last two syllables rhyme because they are equal; the NG at the end of 'mon' and 'fun' also add to the rhyme scheme, but the relationship that causes this to be a strong rhyme is equivalence of the last syllable.\n",
    "\n",
    "Lets look at a harder example. flip(F/L/IH1/P), em(EH1/M) as a couple rhymes with rhythm(R/IH1/DH/AH0/M). To simplify things, lets just look at em(EH1/M) and rhythm(R/IH1/DH/AH0/M). This is a weak rhyme because the stress syllables are different but sound the same. This is another complication we need to take into account.\n",
    "\n",
    "Lets implement a quick naive rhyme scheme to see all of our strong rhymes..."
   ]
  },
  {
   "cell_type": "code",
   "execution_count": 3,
   "metadata": {
    "collapsed": false
   },
   "outputs": [
    {
     "name": "stdout",
     "output_type": "stream",
     "text": [
      "AH0 set([a(AH0), the(DH/AH0)])\n",
      "EY1/N set([cocaine(K/OW0/K/EY1/N), pain(P/EY1/N)])\n",
      "IY1 set([be(B/IY1), see(S/IY1)])\n",
      "IY0 set([funky(F/AH1/NG/K/IY0), monkey(M/AH1/NG/K/IY0)])\n",
      "IH0/NG set([sniffing(S/N/IH1/F/IH0/NG), kicking(K/IH1/K/IH0/NG), inflicting(IH0/N/F/L/IH1/K/T/IH0/NG), Holding(HH/OW1/L/D/IH0/NG)])\n",
      "AH0/N set([musician(M/Y/UW0/Z/IH1/SH/AH0/N), composition(K/AA2/M/P/AH0/Z/IH1/SH/AH0/N)])\n"
     ]
    }
   ],
   "source": [
    "import collections\n",
    "def rhyme_groups_naive(tokens):\n",
    "    groups = collections.defaultdict(set)\n",
    "    for line in tokens:\n",
    "        for token in line:\n",
    "            group = token.rhyme_group()\n",
    "            groups[group].add(token)\n",
    "    return dict(groups)\n",
    "\n",
    "strong_rhyme_groups = rhyme_groups_naive(token_lines)\n",
    "\n",
    "for (k,v) in strong_rhyme_groups.iteritems():\n",
    "    if len(v) > 1:\n",
    "        print k, v"
   ]
  },
  {
   "cell_type": "markdown",
   "metadata": {},
   "source": [
    "Lets visualize this to see if it matches our manual rhyme above"
   ]
  },
  {
   "cell_type": "code",
   "execution_count": 4,
   "metadata": {
    "collapsed": false
   },
   "outputs": [
    {
     "name": "stdout",
     "output_type": "stream",
     "text": [
      "[[u'AH0', set([a(AH0), the(DH/AH0)])], [u'EY1/N', set([cocaine(K/OW0/K/EY1/N), pain(P/EY1/N)])], [u'IY1', set([be(B/IY1), see(S/IY1)])], [u'IY0', set([funky(F/AH1/NG/K/IY0), monkey(M/AH1/NG/K/IY0)])], [u'IH0/NG', set([sniffing(S/N/IH1/F/IH0/NG), kicking(K/IH1/K/IH0/NG), inflicting(IH0/N/F/L/IH1/K/T/IH0/NG), Holding(HH/OW1/L/D/IH0/NG)])], [u'AH0/N', set([musician(M/Y/UW0/Z/IH1/SH/AH0/N), composition(K/AA2/M/P/AH0/Z/IH1/SH/AH0/N)])]]\n"
     ]
    },
    {
     "data": {
      "text/html": [
       "Rappers I <b><font color=#945>monkey</font></b> flip em with <b><font color=#dc2>the</font></b> <b><font color=#945>funky</font></b> rhythm I <b><font color=#844>be</font></b> <b><font color=#b31>kicking</font></b> <br><b><font color=#4b8>musician</font></b> <b><font color=#b31>inflicting</font></b> <b><font color=#4b8>composition</font></b> <br>of <b><font color=#2cf>pain</font></b> I'm like Scarface <b><font color=#b31>sniffing</font></b> <b><font color=#2cf>cocaine</font></b> <br><b><font color=#b31>Holding</font></b> <b><font color=#dc2>a</font></b> M-16 <b><font color=#844>see</font></b> with <b><font color=#dc2>the</font></b> pen I'm extreme now <br>"
      ]
     },
     "metadata": {},
     "output_type": "display_data"
    }
   ],
   "source": [
    "import IPython.display, random\n",
    "\n",
    "def random_color():\n",
    "    return \"#%03x\" % random.randint(0, 0xFFF)\n",
    "\n",
    "# get rid of solo groups\n",
    "groups = [[k,v] for (k,v) in strong_rhyme_groups.iteritems() if len(v) > 1 and k != \"UNKNOWN_GROUP\"]\n",
    "print groups\n",
    "# assign colors\n",
    "for group in groups:\n",
    "    group[0] = random_color()\n",
    "# reverse keys and value\n",
    "color_dict = dict(reduce(lambda x,y: x+y,[[(v_i,k) for v_i in v] for [k,v] in groups]))\n",
    "\n",
    "html = \"\"\n",
    "for token_line in token_lines:\n",
    "    for token in token_line:\n",
    "        if token in color_dict:\n",
    "            html += \"<b><font color=%s>%s</font></b> \" % (color_dict[token], token.word)\n",
    "        else:\n",
    "            html += token.word + \" \"\n",
    "    html += \"<br>\"\n",
    "        \n",
    "\n",
    "IPython.display.display_html(html, raw=True)"
   ]
  },
  {
   "cell_type": "markdown",
   "metadata": {},
   "source": [
    "## Musixmatch API\n",
    "\n",
    "In this section we will now start using the musixmatch api to start scraping some songs and their respective lyrics. We will import the standard python requests library and make calls to the api with our respective apikey that we regestered for. \n",
    "\n",
    "The standard format for the requests will be:\n",
    "\n",
    "\"http://api.musixmatch.com/ws/1.1/method?track_id=?&apikey=?\"\n",
    "\n",
    "where method are the API methods such as \"track.lyrics.get\", \"track.search\", \"chart.atrists.get\", and many others.\n",
    "We need to fill in a track_id for the song and our respective apikey."
   ]
  },
  {
   "cell_type": "markdown",
   "metadata": {},
   "source": [
    "## Search Function\n",
    "\n",
    "The code below will now scrape the musixmatch database for you. All you need to do is pass in the correct song and title and the function will return the lyrics to you. The musixmatch api has a database full of songs where each song has a corresponding track id. The thing is that if we want the lyrics for a certain song then we need the respective track id. However now we just use the song's respective information to get the track id and then return the lyrics. We first split the artist and title into the correct format for the api call. Then we just use this information for the track id and lyrics following."
   ]
  },
  {
   "cell_type": "code",
   "execution_count": 5,
   "metadata": {
    "collapsed": false
   },
   "outputs": [],
   "source": [
    "import requests\n",
    "from datetime import datetime\n",
    "\n",
    "class MusixApi:\n",
    "    def __init__(self, apikey):\n",
    "        self.apikey = apikey\n",
    "        self.search_url = \"http://api.musixmatch.com/ws/1.1/track.search\"\n",
    "        self.lyrics_get_url = \"http://api.musixmatch.com/ws/1.1/track.lyrics.get\"\n",
    "        self.artist_search_url = \"http://api.musixmatch.com/ws/1.1/artist.search\"\n",
    "        self.album_get_url = \"http://api.musixmatch.com/ws/1.1/artist.albums.get\"\n",
    "        self.album_tracks_get_url = \"http://api.musixmatch.com/ws/1.1/album.tracks.get\"\n",
    "        self.track_lyrics_get = \"http://api.musixmatch.com/ws/1.1/track.lyrics.get\"\n",
    "        \n",
    "    def search(self, artist, title):\n",
    "        '''\n",
    "        Pass in artist/title and return song lyrics\n",
    "        Basic search capability\n",
    "        '''\n",
    "        \n",
    "        url = self.search_url\n",
    "        params = {\"q_track\": title.lower(),\n",
    "                  \"q_artist\": artist.lower(),\n",
    "                  \"f_has_lyrics\": 1,\n",
    "                  \"apikey\": self.apikey}\n",
    "        song = requests.get(url, params=params).json()\n",
    "        status_code = song[\"message\"][\"header\"][\"status_code\"]\n",
    "        if status_code != 200:\n",
    "            raise Exception(\"Recieved status code %d\" % status_code)\n",
    "        track_id = song['message']['body']['track_list'][0]['track']['track_id']\n",
    "        \n",
    "        url = self.lyrics_get_url\n",
    "        params = {\"track_id\": track_id,\n",
    "                  \"apikey\": self.apikey}\n",
    "        lyrics = requests.get(url, params=params).json()\n",
    "        status_code = lyrics[\"message\"][\"header\"][\"status_code\"]\n",
    "        if status_code != 200:\n",
    "            raise Exception(\"Recieved status code %d\" % status_code)\n",
    "        return lyrics['message']['body']['lyrics']['lyrics_body']\n",
    "    \n",
    "    def artist_id(self, artist):\n",
    "        '''\n",
    "        This function returns the artist ID for an artist\n",
    "        \n",
    "        Input: An album name\n",
    "        Output: A list of all song lyrics for that album\n",
    "        \n",
    "        '''\n",
    "        params = {\"q_artist\": artist.lower(),\n",
    "                  \"page_size\": 5,\n",
    "                  \"apikey\": self.apikey}\n",
    "        url = self.artist_search_url\n",
    "        artist_json = requests.get(url, params=params).json()\n",
    "        status_code = artist_json[\"message\"][\"header\"][\"status_code\"]\n",
    "        if status_code != 200:\n",
    "            raise Exception(\"Recieved status code %d\" % status_code)\n",
    "        artist_list = artist_json['message']['body']['artist_list']\n",
    "        artist_id = artist_list[0]['artist']['artist_id']\n",
    "        return artist_id\n",
    "    \n",
    "    \n",
    "    def all_albums(self, artist_id):\n",
    "        '''\n",
    "        This function returns all the album for a given artist ID\n",
    "        \n",
    "        Input: the ID of an artist\n",
    "        Output: a list of album\n",
    "        '''\n",
    "        \n",
    "        rez = []\n",
    "        url = self.album_get_url\n",
    "        page_num = 1\n",
    "        album_length = 100\n",
    "        while album_length == 100:\n",
    "            params = {\"artist_id\": artist_id,\n",
    "                      \"s_release_date\": \"desc\",\n",
    "                      \"page_size\": 100,\n",
    "                      \"page\": page_num,\n",
    "                      \"g_album_name\": 1,\n",
    "                      \"apikey\": self.apikey}\n",
    "            album_json = requests.get(url, params=params).json()\n",
    "            status_code = album_json[\"message\"][\"header\"][\"status_code\"]\n",
    "            if status_code != 200:\n",
    "                raise Exception(\"Recieved status code %d\" % status_code)\n",
    "            album_list = album_json['message']['body']['album_list']\n",
    "            rez += [album_result[\"album\"] for album_result in album_list]\n",
    "            album_length = len(album_list)\n",
    "            page_num += 1\n",
    "        return rez\n",
    "    \n",
    "    \n",
    "    def all_lyris_in_album(self, album):\n",
    "        '''\n",
    "        Input: An album\n",
    "        Output: All song lyrics for the respective songs in those albums\n",
    "        \n",
    "        '''\n",
    "        \n",
    "        \n",
    "        album_id = album[\"album_id\"]\n",
    "        url = self.album_tracks_get_url\n",
    "        song_url = self.track_lyrics_get\n",
    "        params = {\"album_id\": album_id,\n",
    "                  \"page\": 1,\n",
    "                  \"page_size\": 100,\n",
    "                  \"apikey\": self.apikey}\n",
    "        tracks_json = requests.get(url, params=params).json()\n",
    "        status_code = tracks_json[\"message\"][\"header\"][\"status_code\"]\n",
    "        if status_code != 200:\n",
    "            print \"Album track lookup for %d failed with status_code %d\"\\\n",
    "                % (album_id, status_code)\n",
    "            return (None, None, None)\n",
    "        \n",
    "        track_list = tracks_json['message']['body']['track_list']\n",
    "        final_lyrics = []\n",
    "        total = len(track_list)\n",
    "        for track in track_list:\n",
    "            song_id = track['track']['track_id']\n",
    "            song_params = {\"track_id\": song_id,\n",
    "                          \"apikey\": self.apikey}\n",
    "            response = requests.get(song_url, params=song_params).json()\n",
    "            status_code = response['message']['header']['status_code']\n",
    "            if status_code == 200:\n",
    "                final_lyrics.append(response['message']['body']['lyrics']['lyrics_body'])\n",
    "        return (final_lyrics, len(final_lyrics), total)\n",
    "        \n",
    "    def get_all_lyrics_from_artist(self, artist, date_start, date_end):\n",
    "        '''\n",
    "        Input: artist name and the range of album dates we want\n",
    "        Output: List of (album_name, lyrics) from that arist in said date range\n",
    "        '''\n",
    "        def in_date_range(date_string, start, end):\n",
    "            try:\n",
    "                dt = datetime.strptime(date_string, \"%Y-%m-%d\")\n",
    "            except:\n",
    "                try:\n",
    "                    dt = datetime.strptime(date_string, \"%Y-%m\")\n",
    "                except:\n",
    "                    try:\n",
    "                        dt = datetime.strptime(date_string, \"%Y\")\n",
    "                    except:\n",
    "                        return False\n",
    "            return dt <= date_end and dt >= date_start\n",
    "        print \"*******************************************************\"\n",
    "        print artist\n",
    "        print \"*******************************************************\"\n",
    "        artist_id = self.artist_id(artist)\n",
    "        print \" * artist_id: %d\" % artist_id\n",
    "        albums = self.all_albums(artist_id)\n",
    "        print \" * number albums: %d\" % len(albums)\n",
    "        albums_in_range = [album for album in albums if \n",
    "                         in_date_range(album[\"album_release_date\"], date_start, date_end)]\n",
    "        print \" * number albums in date range: %d\" % len(albums_in_range)        \n",
    "        \n",
    "        all_lyrics = []\n",
    "        \n",
    "        for album in albums_in_range:\n",
    "            (lyrics, success, total) = self.all_lyris_in_album(album)\n",
    "            if lyrics == None:\n",
    "                continue\n",
    "            all_lyrics.append((album[\"album_name\"], lyrics))\n",
    "            print \" * found (%d/%d) lyrics in album %s\" % (success, total, album[\"album_name\"])\n",
    "        return all_lyrics\n",
    "        \n",
    "        \n",
    "        \n",
    "        "
   ]
  },
  {
   "cell_type": "markdown",
   "metadata": {},
   "source": [
    "The following code will get an API key that is stored in a file called 'secrets.json'. For security reasons, it is never a good idea to post any personal keys to the public."
   ]
  },
  {
   "cell_type": "code",
   "execution_count": 6,
   "metadata": {
    "collapsed": false
   },
   "outputs": [
    {
     "name": "stdout",
     "output_type": "stream",
     "text": [
      "*******************************************************\n",
      "Coldplay\n",
      "*******************************************************\n"
     ]
    },
    {
     "ename": "ConnectionError",
     "evalue": "HTTPConnectionPool(host='api.musixmatch.com', port=80): Max retries exceeded with url: /ws/1.1/artist.search?apikey=e86b892df0a92453d07d7c7cf3ce55eb&q_artist=coldplay&page_size=5 (Caused by NewConnectionError('<requests.packages.urllib3.connection.HTTPConnection object at 0x7f9cd9da3ed0>: Failed to establish a new connection: [Errno -3] Temporary failure in name resolution',))",
     "output_type": "error",
     "traceback": [
      "\u001b[0;31m---------------------------------------------------------------------------\u001b[0m",
      "\u001b[0;31mConnectionError\u001b[0m                           Traceback (most recent call last)",
      "\u001b[0;32m<ipython-input-6-beda6cc7dc60>\u001b[0m in \u001b[0;36m<module>\u001b[0;34m()\u001b[0m\n\u001b[1;32m      7\u001b[0m \u001b[0;31m#ID = music_parser.artist_id(\"Jay-Z\")\u001b[0m\u001b[0;34m\u001b[0m\u001b[0;34m\u001b[0m\u001b[0m\n\u001b[1;32m      8\u001b[0m \u001b[0;31m#albums = music_parser.all_albums(ID)\u001b[0m\u001b[0;34m\u001b[0m\u001b[0;34m\u001b[0m\u001b[0m\n\u001b[0;32m----> 9\u001b[0;31m \u001b[0mmusic_parser\u001b[0m\u001b[0;34m.\u001b[0m\u001b[0mget_all_lyrics_from_artist\u001b[0m\u001b[0;34m(\u001b[0m\u001b[0;34m\"Coldplay\"\u001b[0m\u001b[0;34m,\u001b[0m \u001b[0mdatetime\u001b[0m\u001b[0;34m(\u001b[0m\u001b[0;36m2008\u001b[0m\u001b[0;34m,\u001b[0m\u001b[0;36m1\u001b[0m\u001b[0;34m,\u001b[0m\u001b[0;36m1\u001b[0m\u001b[0;34m)\u001b[0m\u001b[0;34m,\u001b[0m \u001b[0mdatetime\u001b[0m\u001b[0;34m(\u001b[0m\u001b[0;36m2009\u001b[0m\u001b[0;34m,\u001b[0m\u001b[0;36m1\u001b[0m\u001b[0;34m,\u001b[0m\u001b[0;36m1\u001b[0m\u001b[0;34m)\u001b[0m\u001b[0;34m)\u001b[0m\u001b[0;34m\u001b[0m\u001b[0m\n\u001b[0m",
      "\u001b[0;32m<ipython-input-5-11da357bc8fd>\u001b[0m in \u001b[0;36mget_all_lyrics_from_artist\u001b[0;34m(self, artist, date_start, date_end)\u001b[0m\n\u001b[1;32m    143\u001b[0m         \u001b[0;32mprint\u001b[0m \u001b[0martist\u001b[0m\u001b[0;34m\u001b[0m\u001b[0m\n\u001b[1;32m    144\u001b[0m         \u001b[0;32mprint\u001b[0m \u001b[0;34m\"*******************************************************\"\u001b[0m\u001b[0;34m\u001b[0m\u001b[0m\n\u001b[0;32m--> 145\u001b[0;31m         \u001b[0martist_id\u001b[0m \u001b[0;34m=\u001b[0m \u001b[0mself\u001b[0m\u001b[0;34m.\u001b[0m\u001b[0martist_id\u001b[0m\u001b[0;34m(\u001b[0m\u001b[0martist\u001b[0m\u001b[0;34m)\u001b[0m\u001b[0;34m\u001b[0m\u001b[0m\n\u001b[0m\u001b[1;32m    146\u001b[0m         \u001b[0;32mprint\u001b[0m \u001b[0;34m\" * artist_id: %d\"\u001b[0m \u001b[0;34m%\u001b[0m \u001b[0martist_id\u001b[0m\u001b[0;34m\u001b[0m\u001b[0m\n\u001b[1;32m    147\u001b[0m         \u001b[0malbums\u001b[0m \u001b[0;34m=\u001b[0m \u001b[0mself\u001b[0m\u001b[0;34m.\u001b[0m\u001b[0mall_albums\u001b[0m\u001b[0;34m(\u001b[0m\u001b[0martist_id\u001b[0m\u001b[0;34m)\u001b[0m\u001b[0;34m\u001b[0m\u001b[0m\n",
      "\u001b[0;32m<ipython-input-5-11da357bc8fd>\u001b[0m in \u001b[0;36martist_id\u001b[0;34m(self, artist)\u001b[0m\n\u001b[1;32m     50\u001b[0m                   \"apikey\": self.apikey}\n\u001b[1;32m     51\u001b[0m         \u001b[0murl\u001b[0m \u001b[0;34m=\u001b[0m \u001b[0mself\u001b[0m\u001b[0;34m.\u001b[0m\u001b[0martist_search_url\u001b[0m\u001b[0;34m\u001b[0m\u001b[0m\n\u001b[0;32m---> 52\u001b[0;31m         \u001b[0martist_json\u001b[0m \u001b[0;34m=\u001b[0m \u001b[0mrequests\u001b[0m\u001b[0;34m.\u001b[0m\u001b[0mget\u001b[0m\u001b[0;34m(\u001b[0m\u001b[0murl\u001b[0m\u001b[0;34m,\u001b[0m \u001b[0mparams\u001b[0m\u001b[0;34m=\u001b[0m\u001b[0mparams\u001b[0m\u001b[0;34m)\u001b[0m\u001b[0;34m.\u001b[0m\u001b[0mjson\u001b[0m\u001b[0;34m(\u001b[0m\u001b[0;34m)\u001b[0m\u001b[0;34m\u001b[0m\u001b[0m\n\u001b[0m\u001b[1;32m     53\u001b[0m         \u001b[0mstatus_code\u001b[0m \u001b[0;34m=\u001b[0m \u001b[0martist_json\u001b[0m\u001b[0;34m[\u001b[0m\u001b[0;34m\"message\"\u001b[0m\u001b[0;34m]\u001b[0m\u001b[0;34m[\u001b[0m\u001b[0;34m\"header\"\u001b[0m\u001b[0;34m]\u001b[0m\u001b[0;34m[\u001b[0m\u001b[0;34m\"status_code\"\u001b[0m\u001b[0;34m]\u001b[0m\u001b[0;34m\u001b[0m\u001b[0m\n\u001b[1;32m     54\u001b[0m         \u001b[0;32mif\u001b[0m \u001b[0mstatus_code\u001b[0m \u001b[0;34m!=\u001b[0m \u001b[0;36m200\u001b[0m\u001b[0;34m:\u001b[0m\u001b[0;34m\u001b[0m\u001b[0m\n",
      "\u001b[0;32m/home/chris/anaconda2/lib/python2.7/site-packages/requests/api.pyc\u001b[0m in \u001b[0;36mget\u001b[0;34m(url, params, **kwargs)\u001b[0m\n\u001b[1;32m     68\u001b[0m \u001b[0;34m\u001b[0m\u001b[0m\n\u001b[1;32m     69\u001b[0m     \u001b[0mkwargs\u001b[0m\u001b[0;34m.\u001b[0m\u001b[0msetdefault\u001b[0m\u001b[0;34m(\u001b[0m\u001b[0;34m'allow_redirects'\u001b[0m\u001b[0;34m,\u001b[0m \u001b[0mTrue\u001b[0m\u001b[0;34m)\u001b[0m\u001b[0;34m\u001b[0m\u001b[0m\n\u001b[0;32m---> 70\u001b[0;31m     \u001b[0;32mreturn\u001b[0m \u001b[0mrequest\u001b[0m\u001b[0;34m(\u001b[0m\u001b[0;34m'get'\u001b[0m\u001b[0;34m,\u001b[0m \u001b[0murl\u001b[0m\u001b[0;34m,\u001b[0m \u001b[0mparams\u001b[0m\u001b[0;34m=\u001b[0m\u001b[0mparams\u001b[0m\u001b[0;34m,\u001b[0m \u001b[0;34m**\u001b[0m\u001b[0mkwargs\u001b[0m\u001b[0;34m)\u001b[0m\u001b[0;34m\u001b[0m\u001b[0m\n\u001b[0m\u001b[1;32m     71\u001b[0m \u001b[0;34m\u001b[0m\u001b[0m\n\u001b[1;32m     72\u001b[0m \u001b[0;34m\u001b[0m\u001b[0m\n",
      "\u001b[0;32m/home/chris/anaconda2/lib/python2.7/site-packages/requests/api.pyc\u001b[0m in \u001b[0;36mrequest\u001b[0;34m(method, url, **kwargs)\u001b[0m\n\u001b[1;32m     54\u001b[0m     \u001b[0;31m# cases, and look like a memory leak in others.\u001b[0m\u001b[0;34m\u001b[0m\u001b[0;34m\u001b[0m\u001b[0m\n\u001b[1;32m     55\u001b[0m     \u001b[0;32mwith\u001b[0m \u001b[0msessions\u001b[0m\u001b[0;34m.\u001b[0m\u001b[0mSession\u001b[0m\u001b[0;34m(\u001b[0m\u001b[0;34m)\u001b[0m \u001b[0;32mas\u001b[0m \u001b[0msession\u001b[0m\u001b[0;34m:\u001b[0m\u001b[0;34m\u001b[0m\u001b[0m\n\u001b[0;32m---> 56\u001b[0;31m         \u001b[0;32mreturn\u001b[0m \u001b[0msession\u001b[0m\u001b[0;34m.\u001b[0m\u001b[0mrequest\u001b[0m\u001b[0;34m(\u001b[0m\u001b[0mmethod\u001b[0m\u001b[0;34m=\u001b[0m\u001b[0mmethod\u001b[0m\u001b[0;34m,\u001b[0m \u001b[0murl\u001b[0m\u001b[0;34m=\u001b[0m\u001b[0murl\u001b[0m\u001b[0;34m,\u001b[0m \u001b[0;34m**\u001b[0m\u001b[0mkwargs\u001b[0m\u001b[0;34m)\u001b[0m\u001b[0;34m\u001b[0m\u001b[0m\n\u001b[0m\u001b[1;32m     57\u001b[0m \u001b[0;34m\u001b[0m\u001b[0m\n\u001b[1;32m     58\u001b[0m \u001b[0;34m\u001b[0m\u001b[0m\n",
      "\u001b[0;32m/home/chris/anaconda2/lib/python2.7/site-packages/requests/sessions.pyc\u001b[0m in \u001b[0;36mrequest\u001b[0;34m(self, method, url, params, data, headers, cookies, files, auth, timeout, allow_redirects, proxies, hooks, stream, verify, cert, json)\u001b[0m\n\u001b[1;32m    473\u001b[0m         }\n\u001b[1;32m    474\u001b[0m         \u001b[0msend_kwargs\u001b[0m\u001b[0;34m.\u001b[0m\u001b[0mupdate\u001b[0m\u001b[0;34m(\u001b[0m\u001b[0msettings\u001b[0m\u001b[0;34m)\u001b[0m\u001b[0;34m\u001b[0m\u001b[0m\n\u001b[0;32m--> 475\u001b[0;31m         \u001b[0mresp\u001b[0m \u001b[0;34m=\u001b[0m \u001b[0mself\u001b[0m\u001b[0;34m.\u001b[0m\u001b[0msend\u001b[0m\u001b[0;34m(\u001b[0m\u001b[0mprep\u001b[0m\u001b[0;34m,\u001b[0m \u001b[0;34m**\u001b[0m\u001b[0msend_kwargs\u001b[0m\u001b[0;34m)\u001b[0m\u001b[0;34m\u001b[0m\u001b[0m\n\u001b[0m\u001b[1;32m    476\u001b[0m \u001b[0;34m\u001b[0m\u001b[0m\n\u001b[1;32m    477\u001b[0m         \u001b[0;32mreturn\u001b[0m \u001b[0mresp\u001b[0m\u001b[0;34m\u001b[0m\u001b[0m\n",
      "\u001b[0;32m/home/chris/anaconda2/lib/python2.7/site-packages/requests/sessions.pyc\u001b[0m in \u001b[0;36msend\u001b[0;34m(self, request, **kwargs)\u001b[0m\n\u001b[1;32m    594\u001b[0m \u001b[0;34m\u001b[0m\u001b[0m\n\u001b[1;32m    595\u001b[0m         \u001b[0;31m# Send the request\u001b[0m\u001b[0;34m\u001b[0m\u001b[0;34m\u001b[0m\u001b[0m\n\u001b[0;32m--> 596\u001b[0;31m         \u001b[0mr\u001b[0m \u001b[0;34m=\u001b[0m \u001b[0madapter\u001b[0m\u001b[0;34m.\u001b[0m\u001b[0msend\u001b[0m\u001b[0;34m(\u001b[0m\u001b[0mrequest\u001b[0m\u001b[0;34m,\u001b[0m \u001b[0;34m**\u001b[0m\u001b[0mkwargs\u001b[0m\u001b[0;34m)\u001b[0m\u001b[0;34m\u001b[0m\u001b[0m\n\u001b[0m\u001b[1;32m    597\u001b[0m \u001b[0;34m\u001b[0m\u001b[0m\n\u001b[1;32m    598\u001b[0m         \u001b[0;31m# Total elapsed time of the request (approximately)\u001b[0m\u001b[0;34m\u001b[0m\u001b[0;34m\u001b[0m\u001b[0m\n",
      "\u001b[0;32m/home/chris/anaconda2/lib/python2.7/site-packages/requests/adapters.pyc\u001b[0m in \u001b[0;36msend\u001b[0;34m(self, request, stream, timeout, verify, cert, proxies)\u001b[0m\n\u001b[1;32m    485\u001b[0m                 \u001b[0;32mraise\u001b[0m \u001b[0mProxyError\u001b[0m\u001b[0;34m(\u001b[0m\u001b[0me\u001b[0m\u001b[0;34m,\u001b[0m \u001b[0mrequest\u001b[0m\u001b[0;34m=\u001b[0m\u001b[0mrequest\u001b[0m\u001b[0;34m)\u001b[0m\u001b[0;34m\u001b[0m\u001b[0m\n\u001b[1;32m    486\u001b[0m \u001b[0;34m\u001b[0m\u001b[0m\n\u001b[0;32m--> 487\u001b[0;31m             \u001b[0;32mraise\u001b[0m \u001b[0mConnectionError\u001b[0m\u001b[0;34m(\u001b[0m\u001b[0me\u001b[0m\u001b[0;34m,\u001b[0m \u001b[0mrequest\u001b[0m\u001b[0;34m=\u001b[0m\u001b[0mrequest\u001b[0m\u001b[0;34m)\u001b[0m\u001b[0;34m\u001b[0m\u001b[0m\n\u001b[0m\u001b[1;32m    488\u001b[0m \u001b[0;34m\u001b[0m\u001b[0m\n\u001b[1;32m    489\u001b[0m         \u001b[0;32mexcept\u001b[0m \u001b[0mClosedPoolError\u001b[0m \u001b[0;32mas\u001b[0m \u001b[0me\u001b[0m\u001b[0;34m:\u001b[0m\u001b[0;34m\u001b[0m\u001b[0m\n",
      "\u001b[0;31mConnectionError\u001b[0m: HTTPConnectionPool(host='api.musixmatch.com', port=80): Max retries exceeded with url: /ws/1.1/artist.search?apikey=e86b892df0a92453d07d7c7cf3ce55eb&q_artist=coldplay&page_size=5 (Caused by NewConnectionError('<requests.packages.urllib3.connection.HTTPConnection object at 0x7f9cd9da3ed0>: Failed to establish a new connection: [Errno -3] Temporary failure in name resolution',))"
     ]
    }
   ],
   "source": [
    "import json\n",
    "with open(\"secrets.json\", \"r\") as f:\n",
    "    music_parser = MusixApi(json.load(f)[\"musixApiKey\"])\n",
    "\n",
    "#search(\"Taylor Swift\", \"Back To December\")\n",
    "#print music_parser.search(\"Mobb Deep\", \"Survival of the Fittest\")\n",
    "#ID = music_parser.artist_id(\"Jay-Z\")\n",
    "#albums = music_parser.all_albums(ID)\n",
    "music_parser.get_all_lyrics_from_artist(\"Coldplay\", datetime(2008,1,1), datetime(2009,1,1))"
   ]
  },
  {
   "cell_type": "markdown",
   "metadata": {},
   "source": [
    "Phenomenal! We pretty much have most of the functions we need to start scraping the musixmatch library for all our rap lyrics. We have everything we need. Now we'll just get some real data like a csv file of rapper names! We'll use the rapper names to generate all songs that rapper has created recently. So if we input a csv file of say ['Ice Cube', 'Kanye', ...], then we can return all the rap lyrics for those guys!"
   ]
  },
  {
   "cell_type": "markdown",
   "metadata": {},
   "source": [
    "## Building a hip-hop lyrics database\n",
    "\n",
    "After meticulous research, we have compiled a list of hip-hop artists from the 90's that are representative of either East-Coast hip-hop or West-Coast hip-hop. In this section, we will scrape the actual data that we will be using for this project."
   ]
  },
  {
   "cell_type": "code",
   "execution_count": 7,
   "metadata": {
    "collapsed": true
   },
   "outputs": [],
   "source": [
    "class Lyric(object):\n",
    "    \n",
    "    @staticmethod\n",
    "    def _clean(text):\n",
    "        # drop the footer\n",
    "        text = \"\\n\".join(text.split(\"\\n\\n\")[:-1])\n",
    "        return text\n",
    "    \n",
    "    def __init__(self, text, artist, album, label):\n",
    "        self.artist = artist\n",
    "        self.album = album\n",
    "        self.label = label\n",
    "        self.text = Lyric._clean(text)\n",
    "        self.tokens = tokenize(self.text)\n",
    "        \n",
    "    def __repr__(self):\n",
    "        return \"%s/%s: \\\"%s...\\\"\" % (self.artist, self.album, self.text[:10])\n",
    "    \n",
    "    def __hash__(self):\n",
    "        return hash(self.artist) + hash(self.album) + hash(self.tokens)\n",
    "    \n",
    "    "
   ]
  },
  {
   "cell_type": "code",
   "execution_count": 8,
   "metadata": {
    "collapsed": false
   },
   "outputs": [],
   "source": [
    "east_coast_rappers = [\"Notorious B.I.G.\", \"Nas\", \"Wu-Tang Clan\", \"Jay-Z\", \"DMX\", \"Rakim\",\n",
    "                      \"Method Man\", \"Busta Rhymes\", \"Run-DMC\", \"Public Enemy\", \"Mobb Deep\",\n",
    "                      \"KRS-One\", \"50 Cent\", \"Big L\", \"LL Cool J\", \"Ghostface Killah\",\n",
    "                      \"Ol' Dirty Bastard\", \"Raekwon\", \"A Tribe Called Quest\",\n",
    "                      \"Big Daddy Kane\",\"Gang Starr\", \"GZA\", \"Redman\", \"Mos Def\", \"Q-Tip\"]\n",
    "west_coast_rappers = [\"2Pac\", \"Ice Cube\", \"Dr. Dre\", \"Snoop Dogg\", \"N.W.A\",\n",
    "                      \"Nate Dogg\", \"Warren G\", \"MC Ren\", \"Eazy-E\", \"Ice-T\", \"Too $hort\", \"Kurupt\",\n",
    "                      \"The Pharcyde\", \"E-40\"]"
   ]
  },
  {
   "cell_type": "code",
   "execution_count": 9,
   "metadata": {
    "collapsed": false
   },
   "outputs": [
    {
     "data": {
      "text/plain": [
       "'\\ndate_start = datetime(1990,1,1)\\ndate_end = datetime(1999,12,31)\\n\\nlyrics = []\\n\\nfor artist in east_coast_rappers:\\n    for (album_name, album_lyrics) in music_parser.get_all_lyrics_from_artist(artist, date_start, date_end):\\n        for lyric in album_lyrics:\\n            lyrics.append(Lyric(lyric,artist,album_name,\"east\"))\\nfor artist in west_coast_rappers:\\n    for (album_name, album_lyrics) in music_parser.get_all_lyrics_from_artist(artist, date_start, date_end):\\n        for lyric in album_lyrics:\\n            lyrics.append(Lyric(lyric,artist,album_name,\"west\"))\\nwith open(\"lyrics.pickle\") as f:\\n    pickle.dump(lyrics, f)\\n'"
      ]
     },
     "execution_count": 9,
     "metadata": {},
     "output_type": "execute_result"
    }
   ],
   "source": [
    "'''\n",
    "date_start = datetime(1990,1,1)\n",
    "date_end = datetime(1999,12,31)\n",
    "\n",
    "lyrics = []\n",
    "\n",
    "for artist in east_coast_rappers:\n",
    "    for (album_name, album_lyrics) in music_parser.get_all_lyrics_from_artist(artist, date_start, date_end):\n",
    "        for lyric in album_lyrics:\n",
    "            lyrics.append(Lyric(lyric,artist,album_name,\"east\"))\n",
    "for artist in west_coast_rappers:\n",
    "    for (album_name, album_lyrics) in music_parser.get_all_lyrics_from_artist(artist, date_start, date_end):\n",
    "        for lyric in album_lyrics:\n",
    "            lyrics.append(Lyric(lyric,artist,album_name,\"west\"))\n",
    "with open(\"lyrics.pickle\") as f:\n",
    "    pickle.dump(lyrics, f)\n",
    "'''"
   ]
  },
  {
   "cell_type": "code",
   "execution_count": 10,
   "metadata": {
    "collapsed": false
   },
   "outputs": [],
   "source": [
    "import pickle\n",
    "with open('lyrics.pickle') as f:\n",
    "    all_lyrics = pickle.load(f)"
   ]
  },
  {
   "cell_type": "markdown",
   "metadata": {},
   "source": [
    "### Filling in slang words\n",
    "As you may imagine, rap contains a lot of slang words that do not have an entry in CMUdict. We can fill in the gaps by approximating the pronunciations using [CMU Lextools](http://www.speech.cs.cmu.edu/tools/lextool.html). The following code finds all the unknown words and writes them to a file as input to the lextool. We then need to parse the return dict file from the lextool and refill unknown pronunciations with our approximations."
   ]
  },
  {
   "cell_type": "code",
   "execution_count": null,
   "metadata": {
    "collapsed": false,
    "scrolled": false
   },
   "outputs": [],
   "source": [
    "slang = set()\n",
    "\n",
    "for lyric in all_lyrics:\n",
    "    if len(lyric.tokens) == 0:\n",
    "        continue\n",
    "    for p in reduce(lambda x,y: list(x) + list(y), lyric.tokens):\n",
    "        if p.pron == None:\n",
    "            slang.add(p.word.lower())\n",
    "\n",
    "slang = sorted(list(slang))\n",
    "with open(\"slang.txt\", \"w\") as f:\n",
    "    for word in slang:\n",
    "        f.write(word.encode('utf8') + \"\\n\")"
   ]
  },
  {
   "cell_type": "markdown",
   "metadata": {},
   "source": [
    "### Initial Classification\n",
    "\n",
    "An initial approach to classifying rap lyrics by region would simply be to use a tfidf. With the tfidf function that we wrote for homework, let's see if we can come up with anything meaningful."
   ]
  },
  {
   "cell_type": "code",
   "execution_count": 11,
   "metadata": {
    "collapsed": false
   },
   "outputs": [],
   "source": [
    "from sklearn.feature_extraction.text import TfidfVectorizer\n",
    "import sklearn"
   ]
  },
  {
   "cell_type": "code",
   "execution_count": 12,
   "metadata": {
    "collapsed": false
   },
   "outputs": [],
   "source": [
    "from nltk.corpus import stopwords\n",
    "sw = stopwords.words(\"english\")\n",
    "sw += [\"new\",\"york\",\"california\",\"cali\",\"la\",\"nyc\",\"ny\"]"
   ]
  },
  {
   "cell_type": "markdown",
   "metadata": {},
   "source": [
    "To provide some training data for classification, we must write a function that outputs the region number that the lyrics fall under. I.e, a '1' represents west coast rap lyrics, '2' represents east coast, etc."
   ]
  },
  {
   "cell_type": "code",
   "execution_count": 13,
   "metadata": {
    "collapsed": false
   },
   "outputs": [],
   "source": [
    "def create_labels(lyrics,**regions):\n",
    "    \"\"\"\n",
    "    Args:\n",
    "        List(Lyric) : a list of lyric objects\n",
    "        regions (Lists of artists in particular regions)\n",
    "    Output:\n",
    "        dense int array representing the labels for each example lyric\n",
    "    \"\"\"\n",
    "    region_labels = {\n",
    "        'no region'  : 0,\n",
    "        'west_coast' : 1,\n",
    "        'east_coast' : 2,\n",
    "        'south'      : 3,\n",
    "        'midwest'    : 4\n",
    "    }\n",
    "    result = []\n",
    "    for lyric in lyrics:\n",
    "        if len(lyric.tokens) == 0:\n",
    "            continue\n",
    "        region_name = 'no region'\n",
    "        for region in regions:\n",
    "            if lyric.artist in regions[region]:\n",
    "                region_name = region\n",
    "                break\n",
    "        result.append(region_labels[region_name])\n",
    "    return np.array(result)"
   ]
  },
  {
   "cell_type": "code",
   "execution_count": 56,
   "metadata": {
    "collapsed": false
   },
   "outputs": [
    {
     "name": "stdout",
     "output_type": "stream",
     "text": [
      "Found 39 artists, taking 29 for training, 10 for val\n",
      "Training set: 2310, Validation set: 1031\n"
     ]
    }
   ],
   "source": [
    "import random\n",
    "random.seed(0)\n",
    "\n",
    "# split data into sets by artists\n",
    "\n",
    "# split the data based on artists\n",
    "artists_lyrics = {}\n",
    "all_lyrics = filter(lambda lyric: len(lyric.tokens) > 0, all_lyrics)\n",
    "for lyric in all_lyrics:\n",
    "    artists_lyrics[lyric.artist] = artists_lyrics.get(lyric.artist, [])\n",
    "    artists_lyrics[lyric.artist].append(lyric)\n",
    "\n",
    "# split artists\n",
    "num_artists = len(artists_lyrics)\n",
    "train = int(round(0.75*num_artists))\n",
    "artists = artists_lyrics.keys()\n",
    "random.shuffle(artists)\n",
    "artists_tr = artists[:train]\n",
    "artists_val = artists[train:]\n",
    "print \"Found %d artists, taking %d for training, %d for val\" % (len(artists), len(artists_tr), len(artists_val))\n",
    "lyrics_tr = reduce(lambda x,y: x+y, [artists_lyrics[artist] for artist in artists_tr])\n",
    "lyrics_val = reduce(lambda x,y: x+y, [artists_lyrics[artist] for artist in artists_val])\n",
    "print \"Training set: %d, Validation set: %d\" % (len(lyrics_tr), len(lyrics_val))\n",
    "\n",
    "# create features and labels for training and validation set\n",
    "labels_tr = create_labels(lyrics_tr, east_coast=east_coast_rappers, west_coast=west_coast_rappers)\n",
    "docs_tr = [\" \".join(reduce(lambda x,y: x+y, \n",
    "           [[token.word_lower for token in token_line] for token_line in lyric.tokens],\n",
    "           [])) for lyric in lyrics_tr]\n",
    "\n",
    "labels_val = create_labels(lyrics_val, east_coast=east_coast_rappers, west_coast=west_coast_rappers)\n",
    "docs_val = [\" \".join(reduce(lambda x,y: x+y, \n",
    "           [[token.word_lower for token in token_line] for token_line in lyric.tokens],\n",
    "           [])) for lyric in lyrics_val]\n",
    "docs = docs_tr + docs_val"
   ]
  },
  {
   "cell_type": "code",
   "execution_count": 57,
   "metadata": {
    "collapsed": false
   },
   "outputs": [
    {
     "data": {
      "text/plain": [
       "0.83608147429679924"
      ]
     },
     "execution_count": 57,
     "metadata": {},
     "output_type": "execute_result"
    }
   ],
   "source": [
    "# create a tfidf vectorizer with all docs\n",
    "tfidf = TfidfVectorizer(analyzer='word', stop_words=sw).fit(docs)\n",
    "\n",
    "# predict with an svm\n",
    "kernel = 'linear'\n",
    "classifier = sklearn.svm.SVC(kernel=kernel).fit(tfidf.transform(docs_tr),labels_tr)\n",
    "\n",
    "# transform our validation documents and classify\n",
    "X_val = tfidf.transform(docs_val)\n",
    "classifier_score = classifier.score(X_val, labels_val)\n",
    "labels_pred = classifier.predict(X_val)\n",
    "classifier_score"
   ]
  },
  {
   "cell_type": "markdown",
   "metadata": {},
   "source": [
    "### Classifying Based on Rhyme\n",
    "Something interesting that we can find out is if there is an underlying structural difference between the two styles of rap. Abandoning the goal of trying to build the best classifier, lets see if we can distinguish between the two styles based soley on rhyme. To do this lets recall the previous section on rhyming. We will extract all rhyming words and create a vector representing said rhyme scheme. Each element in the vector will correspond to the order in which the rhyming words occur.\n",
    "\n",
    "For example, if we take \"Yet I'm the mild, money-gettin' style, rollin' foul The versatile, honey-sticking, wild golden child\", we can represent that as the array `[0,1,0,1,0,0,1,0,1,0]` where 0 represents the \"mild\" sounding words and 1 represents the \"money-gettin'\" sounding words. After extracting these features, we can pad them and concatenate to form our features matrix."
   ]
  },
  {
   "cell_type": "code",
   "execution_count": 18,
   "metadata": {
    "collapsed": false
   },
   "outputs": [],
   "source": [
    "def lyric_to_rhyme(lyric):\n",
    "    groups = []\n",
    "    token_lines = lyric.tokens\n",
    "    # get all rhyme groups with more than one rhyming word\n",
    "    for k,v in rhyme_groups_naive(token_lines).iteritems():\n",
    "        if k == \"UNKNOWN_GROUP\" or len(v) <= 1:\n",
    "            continue\n",
    "        groups.append(v)\n",
    "    # give each rhyme group a number and flip the dictionary\n",
    "    lookup = {}\n",
    "    for i,words in enumerate(groups):\n",
    "        for word in list(words):\n",
    "            lookup[word] = i\n",
    "    #TODO: implement new lines\n",
    "    return np.array([lookup[token] for token in reduce(lambda x,y: x+y, token_lines) if token in lookup])\n",
    "    \n",
    "def pad_vector(vector, pad, n):\n",
    "    num_padding = n-len(vector)\n",
    "    if num_padding < 0:\n",
    "        raise Exception(\"Size of vector (%d) greater than pad size (%d)\" % (len(vector), n))\n",
    "    return np.pad(vector, [0,num_padding], \"constant\")\n",
    "\n",
    "features = [lyric_to_rhyme(lyric) for lyric in all_lyrics]\n",
    "dim = max([len(feature) for feature in features])\n",
    "\n",
    "X_tr = np.array([pad_vector(lyric_to_rhyme(lyric), -1, dim) for lyric in lyrics_tr])\n",
    "X_val = np.array([pad_vector(lyric_to_rhyme(lyric), -1, dim) for lyric in lyrics_val])"
   ]
  },
  {
   "cell_type": "markdown",
   "metadata": {},
   "source": [
    "### CNN Feature Extraction & Classification\n",
    "The input can be considered a 1D image of some sorts, in that the cells next to eachother are more related to some underlying structure than cells located further away. We can use convolution and pool layers to extract deeper underlying features then use a fully linked layer to classify."
   ]
  },
  {
   "cell_type": "code",
   "execution_count": 55,
   "metadata": {
    "collapsed": false
   },
   "outputs": [
    {
     "data": {
      "text/plain": [
       "\"\\nfrom keras.models import Sequential\\nfrom keras.layers import Dense, Activation, Convolution1D, MaxPooling1D, Flatten\\n\\nmodel = Sequential()\\n\\nmodel.add(Convolution1D(32, 3, border_mode='same', input_shape=(dim,)))\\nmodel.add(Activation('relu'))\\nmodel.add(MaxPooling1D(pool_length=2, stride=2))\\nmodel.add(Convolution1D(64, 3))\\nmodel.add(Activation('relu'))\\nmodel.add(MaxPooling1D(pool_length=2, stride=2))\\nmodel.add(Flatten())\\nmodel.add(Dense(256))\\nmodel.add(Activation('relu'))\\nmodel.add(Dense(1))\\nmodel.add(Activation('sigmoid'))\\n\\n# for a binary classification problem\\nmodel.compile(optimizer='rmsprop',\\n              loss='binary_crossentropy',\\n              metrics=['accuracy'])\\n\\nmodel.fit(X_tr, labels_tr, nb_epoch=5, batch_size=32)\\n\""
      ]
     },
     "execution_count": 55,
     "metadata": {},
     "output_type": "execute_result"
    }
   ],
   "source": [
    "'''\n",
    "from keras.models import Sequential\n",
    "from keras.layers import Dense, Activation, Convolution1D, MaxPooling1D, Flatten\n",
    "\n",
    "model = Sequential()\n",
    "\n",
    "model.add(Convolution1D(32, 3, border_mode='same', input_shape=(dim,)))\n",
    "model.add(Activation('relu'))\n",
    "model.add(MaxPooling1D(pool_length=2, stride=2))\n",
    "model.add(Convolution1D(64, 3))\n",
    "model.add(Activation('relu'))\n",
    "model.add(MaxPooling1D(pool_length=2, stride=2))\n",
    "model.add(Flatten())\n",
    "model.add(Dense(256))\n",
    "model.add(Activation('relu'))\n",
    "model.add(Dense(1))\n",
    "model.add(Activation('sigmoid'))\n",
    "\n",
    "# for a binary classification problem\n",
    "model.compile(optimizer='rmsprop',\n",
    "              loss='binary_crossentropy',\n",
    "              metrics=['accuracy'])\n",
    "\n",
    "model.fit(X_tr, labels_tr, nb_epoch=5, batch_size=32)\n",
    "'''"
   ]
  },
  {
   "cell_type": "code",
   "execution_count": null,
   "metadata": {
    "collapsed": true
   },
   "outputs": [],
   "source": []
  },
  {
   "cell_type": "code",
   "execution_count": null,
   "metadata": {
    "collapsed": true
   },
   "outputs": [],
   "source": []
  },
  {
   "cell_type": "code",
   "execution_count": null,
   "metadata": {
    "collapsed": true
   },
   "outputs": [],
   "source": []
  },
  {
   "cell_type": "code",
   "execution_count": null,
   "metadata": {
    "collapsed": true
   },
   "outputs": [],
   "source": []
  },
  {
   "cell_type": "code",
   "execution_count": null,
   "metadata": {
    "collapsed": true
   },
   "outputs": [],
   "source": []
  },
  {
   "cell_type": "code",
   "execution_count": null,
   "metadata": {
    "collapsed": true
   },
   "outputs": [],
   "source": []
  },
  {
   "cell_type": "code",
   "execution_count": null,
   "metadata": {
    "collapsed": true
   },
   "outputs": [],
   "source": []
  },
  {
   "cell_type": "code",
   "execution_count": null,
   "metadata": {
    "collapsed": true
   },
   "outputs": [],
   "source": []
  },
  {
   "cell_type": "code",
   "execution_count": null,
   "metadata": {
    "collapsed": true
   },
   "outputs": [],
   "source": []
  },
  {
   "cell_type": "code",
   "execution_count": null,
   "metadata": {
    "collapsed": true
   },
   "outputs": [],
   "source": []
  },
  {
   "cell_type": "code",
   "execution_count": null,
   "metadata": {
    "collapsed": true
   },
   "outputs": [],
   "source": []
  },
  {
   "cell_type": "code",
   "execution_count": null,
   "metadata": {
    "collapsed": true
   },
   "outputs": [],
   "source": []
  },
  {
   "cell_type": "code",
   "execution_count": null,
   "metadata": {
    "collapsed": true
   },
   "outputs": [],
   "source": []
  },
  {
   "cell_type": "code",
   "execution_count": null,
   "metadata": {
    "collapsed": true
   },
   "outputs": [],
   "source": []
  },
  {
   "cell_type": "code",
   "execution_count": null,
   "metadata": {
    "collapsed": true
   },
   "outputs": [],
   "source": []
  },
  {
   "cell_type": "code",
   "execution_count": null,
   "metadata": {
    "collapsed": true
   },
   "outputs": [],
   "source": []
  },
  {
   "cell_type": "code",
   "execution_count": null,
   "metadata": {
    "collapsed": true
   },
   "outputs": [],
   "source": []
  },
  {
   "cell_type": "code",
   "execution_count": null,
   "metadata": {
    "collapsed": true
   },
   "outputs": [],
   "source": []
  },
  {
   "cell_type": "code",
   "execution_count": null,
   "metadata": {
    "collapsed": true
   },
   "outputs": [],
   "source": []
  }
 ],
 "metadata": {
  "anaconda-cloud": {},
  "kernelspec": {
   "display_name": "Python [conda root]",
   "language": "python",
   "name": "conda-root-py"
  },
  "language_info": {
   "codemirror_mode": {
    "name": "ipython",
    "version": 2
   },
   "file_extension": ".py",
   "mimetype": "text/x-python",
   "name": "python",
   "nbconvert_exporter": "python",
   "pygments_lexer": "ipython2",
   "version": "2.7.12"
  }
 },
 "nbformat": 4,
 "nbformat_minor": 0
}

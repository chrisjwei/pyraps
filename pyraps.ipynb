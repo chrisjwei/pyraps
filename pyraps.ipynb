{
 "cells": [
  {
   "cell_type": "markdown",
   "metadata": {
    "collapsed": true
   },
   "source": [
    "# pyraps\n",
    "\n",
    "For our final project, we will be attempting to classify rap styles based on song lyrics. We will be using a subsection of rap music published in the 1990's, where rap style from different geographical regions were distinct, which differs from modern rap music has become more of an almalgamation of the three main rap styles. The two main geographical regions we will be looking at are east-coast (New York City), west-coast (Los Angeles) - we may extend this to further classify more modern movements such as southern (Atlanta) and midwest (Detroit).\n",
    "\n",
    "Our project consists of three parts.\n",
    "\n",
    "1. Data Collection - We will build a database of lyrics from 1990's rap artists and label them based on the rappers style based on geographical location.\n",
    "2. Creating features - We will create features to capture the rhythm and rhyme of a song, as well as the particular lyrical content and vocabulary.\n",
    "3. Training a classifier - Using our features, we will train different types of classifiers and compare results."
   ]
  },
  {
   "cell_type": "markdown",
   "metadata": {},
   "source": [
    "## Creating Features\n",
    "\n",
    "We will be using two sets of information as features for our machine learning algorithms: lyrical content, in other words the actual words that are being used and the order in which those words occur in, and rhyme patterns along with rhythmic beats, which we will analyze using NLTK."
   ]
  },
  {
   "cell_type": "markdown",
   "metadata": {},
   "source": [
    "### Lyrical Content\n",
    "\n",
    "One easy way to generate features for this is to use a pretrained neural network that specifically handles text and drop the last layer (which converts their learned features to their expected output)."
   ]
  },
  {
   "cell_type": "markdown",
   "metadata": {},
   "source": [
    "### Rhyme Patterns\n",
    "\n",
    "Rhyme patterns are pretty interesting in the way it manifests itself in east-coast versus west-coast rap. East-coast tends to try to create intricate and interlacing rhyme patterns where as west-coast rap focuses more on creating a vibe rather than building intense rhyme structures. We can use this as another feature we can train on to provide better separation"
   ]
  },
  {
   "cell_type": "markdown",
   "metadata": {},
   "source": [
    "Lets take a look at a couple lines from Nas' \"NY State of Mind\", a classic east coast style song\n",
    "\n",
    "1. Rappers I <font color='blue'>monkey</font> <font color='red'>flip em</font> with the <font color='blue'>funky</font> <font color='red'>rhythm</font> I be <font color='red'>kickin'</font>\n",
    "2. <font color='red'>musician</font>, <font color='red'>inflictin</font> <font color='red'>composition</font>\n",
    "3. <font color='green'>of pain</font> I'm like Scarface <font color='red'>sniffin</font> <font color='green'>cocaine</font>\n",
    "4. Holdin a <font color='purple'>M-16</font>, see with the pen <font color='purple'>I'm extreme</font>, now\n",
    "\n",
    "Now lets take a look at a couple lines from 2Pac's California Love, a west coast style song\n",
    "\n",
    "1. Now let me welcome everybody to the wild, wild <font color='red'>west</font>\n",
    "2. A state that's untouchable like Elliot <font color='red'>Ness</font>\n",
    "3. The track hits ya eardrum like a slug to ya <font color='red'>chest</font>\n",
    "4. Pack a <font color='red'>vest</font> for your Jimmy in the city of <font color='red'>sex</font>\n",
    "\n",
    "We can immediately see a difference between the rhyme style between these two styles of rap. East coast tends to have more rhymes in general and focuses a lot more on variety of rhyme patterns interspersed throughout the lines, as opposed to west coast which focuses more on simpler last-word rhymes.\n",
    "\n",
    "How can we do this computationally? We will use CMU's pronuncation dictionary in the NLTK package."
   ]
  },
  {
   "cell_type": "code",
   "execution_count": null,
   "metadata": {
    "collapsed": false
   },
   "outputs": [],
   "source": [
    "import nltk\n",
    "import pandas as pd\n",
    "import scipy as sp\n",
    "import numpy as np\n",
    "from nltk.corpus import cmudict"
   ]
  },
  {
   "cell_type": "code",
   "execution_count": null,
   "metadata": {
    "collapsed": false
   },
   "outputs": [],
   "source": [
    "CMUDICT = cmudict.dict()"
   ]
  },
  {
   "cell_type": "code",
   "execution_count": null,
   "metadata": {
    "collapsed": false
   },
   "outputs": [],
   "source": [
    "class Pronunciation(object):\n",
    "    def __init__(self, word):\n",
    "        self.word = word\n",
    "        word = word.lower()\n",
    "        if word in CMUDICT:\n",
    "            self.pron = CMUDICT[word][0]\n",
    "            self.syllable_loc = [i for i in xrange(len(self.pron)) if self.pron[i][-1].isdigit()]\n",
    "        else:\n",
    "            # there are other NLTK libraries to guess word pronunciations\n",
    "            self.pron = None\n",
    "            self.syllable_loc = None\n",
    "    def __repr__(self):\n",
    "        if self.pron:\n",
    "            pron_repr =  \"/\".join(self.pron)\n",
    "        else:\n",
    "            pron_repr = \"?\"\n",
    "        return \"%s(%s)\" % (self.word,pron_repr)\n",
    "    \n",
    "    def rhyme_group(self):\n",
    "        if self.syllable_loc == []:\n",
    "            return \"/\".join(self.pron)\n",
    "        elif self.pron == None:\n",
    "            return \"UNKNOWN_GROUP\"\n",
    "        else:\n",
    "            return \"/\".join(self.pron[self.syllable_loc[-1]:])\n",
    "    \n",
    "    def __eq__(self,other):\n",
    "        return self.word.lower() == other.word.lower()\n",
    "    \n",
    "    def __hash__(self):\n",
    "        return hash(self.word.lower())\n",
    "    \n",
    "        \n",
    "\n",
    "def tokenize(s):\n",
    "    tokenizer = nltk.tokenize.RegexpTokenizer(r\"[\\w-]+'?[\\w-]*\")\n",
    "    tokenized_lines = [tokenizer.tokenize(line) for line in s.split(\"\\n\") if line]\n",
    "    return [[Pronunciation(token) for token in token_line] for token_line in tokenized_lines]\n",
    "    \n",
    "\n",
    "nas = '''Rappers I monkey flip em with the funky rhythm I be kicking\\nmusician, inflicting composition\\nof pain '''+\\\n",
    "      '''I'm like Scarface sniffing cocaine\\nHolding a M-16, see with the pen I'm extreme, now\\n\\n'''\n",
    "token_lines = tokenize(nas)\n",
    "for line in token_lines:\n",
    "    print line"
   ]
  },
  {
   "cell_type": "markdown",
   "metadata": {},
   "source": [
    "Now we need to define some sort of metric for rhyming words.\n",
    "We know that monkey(M/AH1/NG/K/IY0) rhymes with funky(F/AH1/NG/K/IY0) and is a perfect rhyme. Lets break this down. Monkey has two syllables and thus two stress vowels. These stress vowels mark separations of syllables - monkey can be broken down to (M/AH1/NG) and (K/IY0); funky can be broken down to (F/AH1/NG) and (K/IY0). Immediately, we see that the last two syllables rhyme because they are equal; the NG at the end of 'mon' and 'fun' also add to the rhyme scheme, but the relationship that causes this to be a strong rhyme is equivalence of the last syllable.\n",
    "\n",
    "Lets look at a harder example. flip(F/L/IH1/P), em(EH1/M) as a couple rhymes with rhythm(R/IH1/DH/AH0/M). To simplify things, lets just look at em(EH1/M) and rhythm(R/IH1/DH/AH0/M). This is a weak rhyme because the stress syllables are different but sound the same. This is another complication we need to take into account.\n",
    "\n",
    "Lets implement a quick naive rhyme scheme to see all of our strong rhymes..."
   ]
  },
  {
   "cell_type": "code",
   "execution_count": null,
   "metadata": {
    "collapsed": false
   },
   "outputs": [],
   "source": [
    "import collections\n",
    "def rhyme_groups_naive(tokens):\n",
    "    groups = collections.defaultdict(set)\n",
    "    for line in tokens:\n",
    "        for token in line:\n",
    "            group = token.rhyme_group()\n",
    "            groups[group].add(token)\n",
    "    return dict(groups)\n",
    "\n",
    "strong_rhyme_groups = rhyme_groups_naive(token_lines)\n",
    "\n",
    "for (k,v) in strong_rhyme_groups.iteritems():\n",
    "    if len(v) > 1:\n",
    "        print k, v"
   ]
  },
  {
   "cell_type": "markdown",
   "metadata": {},
   "source": [
    "Lets visualize this to see if it matches our manual rhyme above"
   ]
  },
  {
   "cell_type": "code",
   "execution_count": null,
   "metadata": {
    "collapsed": false
   },
   "outputs": [],
   "source": [
    "import IPython.display, random\n",
    "\n",
    "def random_color():\n",
    "    return \"#%03x\" % random.randint(0, 0xFFF)\n",
    "\n",
    "# get rid of solo groups\n",
    "groups = [[k,v] for (k,v) in strong_rhyme_groups.iteritems() if len(v) > 1 and k != \"UNKNOWN_GROUP\"]\n",
    "print groups\n",
    "# assign colors\n",
    "for group in groups:\n",
    "    group[0] = random_color()\n",
    "# reverse keys and value\n",
    "color_dict = dict(reduce(lambda x,y: x+y,[[(v_i,k) for v_i in v] for [k,v] in groups]))\n",
    "\n",
    "html = \"\"\n",
    "for token_line in token_lines:\n",
    "    for token in token_line:\n",
    "        if token in color_dict:\n",
    "            html += \"<b><font color=%s>%s</font></b> \" % (color_dict[token], token.word)\n",
    "        else:\n",
    "            html += token.word + \" \"\n",
    "    html += \"<br>\"\n",
    "        \n",
    "\n",
    "IPython.display.display_html(html, raw=True)"
   ]
  },
  {
   "cell_type": "markdown",
   "metadata": {},
   "source": [
    "## Musixmatch API\n",
    "\n",
    "In this section we will now start using the musixmatch api to start scraping some songs and their respective lyrics. We will import the standard python requests library and make calls to the api with our respective apikey that we regestered for. \n",
    "\n",
    "The standard format for the requests will be:\n",
    "\n",
    "\"http://api.musixmatch.com/ws/1.1/method?track_id=?&apikey=?\"\n",
    "\n",
    "where method are the API methods such as \"track.lyrics.get\", \"track.search\", \"chart.atrists.get\", and many others.\n",
    "We need to fill in a track_id for the song and our respective apikey."
   ]
  },
  {
   "cell_type": "markdown",
   "metadata": {},
   "source": [
    "## Search Function\n",
    "\n",
    "The code below will now scrape the musixmatch database for you. All you need to do is pass in the correct song and title and the function will return the lyrics to you. The musixmatch api has a database full of songs where each song has a corresponding track id. The thing is that if we want the lyrics for a certain song then we need the respective track id. However now we just use the song's respective information to get the track id and then return the lyrics. We first split the artist and title into the correct format for the api call. Then we just use this information for the track id and lyrics following."
   ]
  },
  {
   "cell_type": "code",
   "execution_count": 35,
   "metadata": {
    "collapsed": false
   },
   "outputs": [],
   "source": [
    "import requests\n",
    "from datetime import datetime\n",
    "\n",
    "class MusixApi:\n",
    "    def __init__(self, apikey):\n",
    "        self.apikey = apikey\n",
    "        self.searchUrl = \"http://api.musixmatch.com/ws/1.1/track.search\"\n",
    "        self.lyricsGetUrl = \"http://api.musixmatch.com/ws/1.1/track.lyrics.get\"\n",
    "        self.artistSearchUrl = \"http://api.musixmatch.com/ws/1.1/artist.search\"\n",
    "        self.albumGetUrl = \"http://api.musixmatch.com/ws/1.1/artist.albums.get\"\n",
    "        self.albumTracksGetUrl = \"http://api.musixmatch.com/ws/1.1/album.tracks.get\"\n",
    "        self.trackLyricsGet = \"http://api.musixmatch.com/ws/1.1/track.lyrics.get\"\n",
    "        \n",
    "    def search(self, artist, title):\n",
    "        '''\n",
    "        Pass in artist/title and return song lyrics\n",
    "        Basic search capability\n",
    "        '''\n",
    "        \n",
    "        url = self.searchUrl\n",
    "        params = {\"q_track\": title.lower(),\n",
    "                  \"q_artist\": artist.lower(),\n",
    "                  \"f_has_lyrics\": 1,\n",
    "                  \"apikey\": self.apikey}\n",
    "        song = requests.get(url, params=params).json()\n",
    "        status_code = song[\"message\"][\"header\"][\"status_code\"]\n",
    "        if status_code != 200:\n",
    "            raise Exception(\"Recieved status code %d\" % status_code)\n",
    "        trackID = song['message']['body']['track_list'][0]['track']['track_id']\n",
    "        \n",
    "        url = self.lyricsGetUrl\n",
    "        params = {\"track_id\": trackID,\n",
    "                  \"apikey\": self.apikey}\n",
    "        lyrics = requests.get(url, params=params).json()\n",
    "        status_code = lyrics[\"message\"][\"header\"][\"status_code\"]\n",
    "        if status_code != 200:\n",
    "            raise Exception(\"Recieved status code %d\" % status_code)\n",
    "        return lyrics['message']['body']['lyrics']['lyrics_body']\n",
    "    \n",
    "    def artistID(self, artist):\n",
    "        '''\n",
    "        This function returns the artist ID for an artist\n",
    "        \n",
    "        Input: An album name\n",
    "        Output: A list of all song lyrics for that album\n",
    "        \n",
    "        '''\n",
    "        params = {\"q_artist\": artist.lower(),\n",
    "                  \"page_size\": 5,\n",
    "                  \"apikey\": self.apikey}\n",
    "        url = self.artistSearchUrl\n",
    "        artistJson = requests.get(url, params=params).json()\n",
    "        status_code = artistJson[\"message\"][\"header\"][\"status_code\"]\n",
    "        if status_code != 200:\n",
    "            raise Exception(\"Recieved status code %d\" % status_code)\n",
    "        artistList = artistJson['message']['body']['artist_list']\n",
    "        artistId = artistList[0]['artist']['artist_id']\n",
    "        return artistId\n",
    "    \n",
    "    \n",
    "    def allAlbums(self, artistID, limit=-1):\n",
    "        '''\n",
    "        This function returns all the album for a given artist ID\n",
    "        \n",
    "        Input: the ID of an artist\n",
    "        Output: a list of album\n",
    "        '''\n",
    "        \n",
    "        rez = []\n",
    "        params = {\"artist_id\": artistID,\n",
    "                  \"s_release_date\": \"desc\",\n",
    "                  \"page_size\": 100,\n",
    "                  \"g_album_name\": 1,\n",
    "                  \"apikey\": self.apikey}\n",
    "        url = self.albumGetUrl        \n",
    "        albumJson = requests.get(url, params=params).json()\n",
    "        status_code = albumJson[\"message\"][\"header\"][\"status_code\"]\n",
    "        if status_code != 200:\n",
    "            raise Exception(\"Recieved status code %d\" % status_code)\n",
    "        albumList = albumJson['message']['body']['album_list']\n",
    "        \n",
    "        albumLength = len(albumList)\n",
    "        if albumLength == 100:\n",
    "            print \"Warning! artistID %d may have more albums\" % artistID\n",
    "        if limit >= 0:\n",
    "            for i in xrange(min(limit,albumLength)):\n",
    "                rez.append(albumList[i]['album'])\n",
    "        else:\n",
    "            rez = [albumResult[\"album\"] for albumResult in albumList]        \n",
    "        return rez\n",
    "    \n",
    "    \n",
    "    def allLyricsInAlbum(self, album):\n",
    "        '''\n",
    "        Input: An album\n",
    "        Output: All song lyrics for the respective songs in those albums\n",
    "        \n",
    "        '''\n",
    "        \n",
    "        \n",
    "        albumId = album[\"album_id\"]\n",
    "        url = self.albumTracksGetUrl\n",
    "        songUrl = self.trackLyricsGet\n",
    "        params = {\"album_id\": albumId,\n",
    "                  \"page\": 1,\n",
    "                  \"page_size\": 100,\n",
    "                  \"apikey\": self.apikey}\n",
    "        tracksJson = requests.get(url, params=params).json()\n",
    "        status_code = tracksJson[\"message\"][\"header\"][\"status_code\"]\n",
    "        if status_code != 200:\n",
    "            print \"Album track lookup for %d failed with status_code %d\"\\\n",
    "                % (albumId, status_code)\n",
    "            return (None, None, None)\n",
    "        \n",
    "        trackList = tracksJson['message']['body']['track_list']\n",
    "        finalLyrics = []\n",
    "        total = len(trackList)\n",
    "        for track in trackList:\n",
    "            songId = track['track']['track_id']\n",
    "            songParams = {\"track_id\": songId,\n",
    "                          \"apikey\": self.apikey}\n",
    "            response = requests.get(songUrl, params=songParams).json()\n",
    "            status_code = response['message']['header']['status_code']\n",
    "            if status_code == 200:\n",
    "                finalLyrics.append(response['message']['body']['lyrics']['lyrics_body'])\n",
    "        return (finalLyrics, len(finalLyrics), total)\n",
    "        \n",
    "    def getAllLyricsFromArtist(self, artist, date_start, date_end):\n",
    "        '''\n",
    "        Input: artist name and the range of album dates we want\n",
    "        Output: List of song lyrics from that arist in said date range\n",
    "        '''\n",
    "        def in_date_range(date_string, start, end):\n",
    "            try:\n",
    "                dt = datetime.strptime(date_string, \"%Y-%m-%d\")\n",
    "            except:\n",
    "                try:\n",
    "                    dt = datetime.strptime(date_string, \"%Y-%m\")\n",
    "                except:\n",
    "                    try:\n",
    "                        dt = datetime.strptime(date_string, \"%Y\")\n",
    "                    except:\n",
    "                        return False\n",
    "            return dt <= date_end and dt >= date_start\n",
    "        print \"*******************************************************\"\n",
    "        print artist\n",
    "        print \"*******************************************************\"\n",
    "        artistID = self.artistID(artist)\n",
    "        print \" * artistID: %d\" % artistID\n",
    "        albums = self.allAlbums(artistID)\n",
    "        print \" * number albums: %d\" % len(albums)\n",
    "        albumsInRange = [album for album in albums if \n",
    "                         in_date_range(album[\"album_release_date\"], date_start, date_end)]\n",
    "        print \" * number albums in date range: %d\" % len(albumsInRange)        \n",
    "        \n",
    "        allLyrics = []\n",
    "        \n",
    "        for album in albumsInRange:\n",
    "            (lyrics, success, total) = self.allLyricsInAlbum(album)\n",
    "            if lyrics == None:\n",
    "                continue\n",
    "            allLyrics += lyrics\n",
    "            print \" * found (%d/%d) lyrics in album %s\" % (success, total, album[\"album_name\"])\n",
    "        return allLyrics\n",
    "        \n",
    "        \n",
    "        \n",
    "        "
   ]
  },
  {
   "cell_type": "markdown",
   "metadata": {},
   "source": [
    "The following code will get an API key that is stored in a file called 'secrets.json'. For security reasons, it is never a good idea to post any personal keys to the public."
   ]
  },
  {
   "cell_type": "code",
   "execution_count": 36,
   "metadata": {
    "collapsed": false
   },
   "outputs": [],
   "source": [
    "import json\n",
    "with open(\"secrets.json\", \"r\") as f:\n",
    "    musicParser = MusixApi(json.load(f)[\"musixApiKey\"])\n",
    "\n",
    "#search(\"Taylor Swift\", \"Back To December\")\n",
    "#print musicParser.search(\"Mobb Deep\", \"Survival of the Fittest\")\n",
    "#ID = musicParser.artistID(\"Coldplay\")\n",
    "#albums = musicParser.allAlbums(ID)\n",
    "#musicParser.getAllLyricsFromArtist(\"Coldplay\", datetime(2008,1,1), datetime(2009,1,1))"
   ]
  },
  {
   "cell_type": "markdown",
   "metadata": {},
   "source": [
    "Phenomenal! We pretty much have most of the functions we need to start scraping the musixmatch library for all our rap lyrics. We have everything we need. Now we'll just get some real data like a csv file of rapper names! We'll use the rapper names to generate all songs that rapper has created recently. So if we input a csv file of say ['Ice Cube', 'Kanye', ...], then we can return all the rap lyrics for those guys!"
   ]
  },
  {
   "cell_type": "markdown",
   "metadata": {},
   "source": [
    "## Building a hip-hop lyrics database\n",
    "\n",
    "After meticulous research, we have compiled a list of hip-hop artists from the 90's that are representative of either East-Coast hip-hop or West-Coast hip-hop. In this section, we will scrape the actual data that we will be using for this project."
   ]
  },
  {
   "cell_type": "code",
   "execution_count": 37,
   "metadata": {
    "collapsed": false
   },
   "outputs": [],
   "source": [
    "east_coast_rappers = [\"Notorious B.I.G.\", \"Nas\", \"Wu-Tang Clan\", \"Jay-Z\", \"DMX\", \"Rakim\",\n",
    "                      \"Method Man\", \"Busta Rhymes\", \"Run-DMC\", \"Public Enemy\", \"Mobb Deep\",\n",
    "                      \"KRS-One\", \"50 Cent\", \"Big L\", \"LL Cool J\", \"Ghostface Killah\",\n",
    "                      \"Ol' Dirty Bastard\", \"Raekwon\", \"A Tribe Called Quest\",\n",
    "                      \"Big Daddy Kane\",\"Gang Starr\", \"GZA\", \"Redman\", \"Mos Def\", \"Q-Tip\"]\n",
    "west_coast_rappers = [\"Tupac Shakur\", \"Ice Cube\", \"Dr. Dre\", \"Snoop Dogg\", \"N.W.A\",\n",
    "                      \"Nate Dogg\", \"Warren G\", \"MC Ren\", \"Eazy-E\", \"Ice-T\"]"
   ]
  },
  {
   "cell_type": "code",
   "execution_count": 38,
   "metadata": {
    "collapsed": false
   },
   "outputs": [
    {
     "name": "stdout",
     "output_type": "stream",
     "text": [
      "*******************************************************\n",
      "Notorious B.I.G.\n",
      "*******************************************************\n",
      " * artistID: 7567\n",
      " * number albums: 47\n",
      " * number albums in date range: 21\n"
     ]
    },
    {
     "ename": "KeyboardInterrupt",
     "evalue": "",
     "output_type": "error",
     "traceback": [
      "\u001b[0;31m---------------------------------------------------------------------------\u001b[0m",
      "\u001b[0;31mKeyboardInterrupt\u001b[0m                         Traceback (most recent call last)",
      "\u001b[0;32m<ipython-input-38-0b2a54d81623>\u001b[0m in \u001b[0;36m<module>\u001b[0;34m()\u001b[0m\n\u001b[1;32m      2\u001b[0m \u001b[0mdate_end\u001b[0m \u001b[0;34m=\u001b[0m \u001b[0mdatetime\u001b[0m\u001b[0;34m(\u001b[0m\u001b[0;36m1999\u001b[0m\u001b[0;34m,\u001b[0m\u001b[0;36m12\u001b[0m\u001b[0;34m,\u001b[0m\u001b[0;36m31\u001b[0m\u001b[0;34m)\u001b[0m\u001b[0;34m\u001b[0m\u001b[0m\n\u001b[1;32m      3\u001b[0m east_coast_lyrics = {artist: musicParser.getAllLyricsFromArtist(artist, date_start, date_end)\n\u001b[0;32m----> 4\u001b[0;31m                      for artist in east_coast_rappers}\n\u001b[0m\u001b[1;32m      5\u001b[0m west_coast_lyrics = {artist: musicParser.getAllLyricsFromArtist(artist, date_start, date_end)\n\u001b[1;32m      6\u001b[0m                      for artist in west_coast_rappers}\n",
      "\u001b[0;32m<ipython-input-38-0b2a54d81623>\u001b[0m in \u001b[0;36m<dictcomp>\u001b[0;34m((artist,))\u001b[0m\n\u001b[1;32m      2\u001b[0m \u001b[0mdate_end\u001b[0m \u001b[0;34m=\u001b[0m \u001b[0mdatetime\u001b[0m\u001b[0;34m(\u001b[0m\u001b[0;36m1999\u001b[0m\u001b[0;34m,\u001b[0m\u001b[0;36m12\u001b[0m\u001b[0;34m,\u001b[0m\u001b[0;36m31\u001b[0m\u001b[0;34m)\u001b[0m\u001b[0;34m\u001b[0m\u001b[0m\n\u001b[1;32m      3\u001b[0m east_coast_lyrics = {artist: musicParser.getAllLyricsFromArtist(artist, date_start, date_end)\n\u001b[0;32m----> 4\u001b[0;31m                      for artist in east_coast_rappers}\n\u001b[0m\u001b[1;32m      5\u001b[0m west_coast_lyrics = {artist: musicParser.getAllLyricsFromArtist(artist, date_start, date_end)\n\u001b[1;32m      6\u001b[0m                      for artist in west_coast_rappers}\n",
      "\u001b[0;32m<ipython-input-35-749dd7d4d28c>\u001b[0m in \u001b[0;36mgetAllLyricsFromArtist\u001b[0;34m(self, artist, date_start, date_end)\u001b[0m\n\u001b[1;32m    156\u001b[0m \u001b[0;34m\u001b[0m\u001b[0m\n\u001b[1;32m    157\u001b[0m         \u001b[0;32mfor\u001b[0m \u001b[0malbum\u001b[0m \u001b[0;32min\u001b[0m \u001b[0malbumsInRange\u001b[0m\u001b[0;34m:\u001b[0m\u001b[0;34m\u001b[0m\u001b[0m\n\u001b[0;32m--> 158\u001b[0;31m             \u001b[0;34m(\u001b[0m\u001b[0mlyrics\u001b[0m\u001b[0;34m,\u001b[0m \u001b[0msuccess\u001b[0m\u001b[0;34m,\u001b[0m \u001b[0mtotal\u001b[0m\u001b[0;34m)\u001b[0m \u001b[0;34m=\u001b[0m \u001b[0mself\u001b[0m\u001b[0;34m.\u001b[0m\u001b[0mallLyricsInAlbum\u001b[0m\u001b[0;34m(\u001b[0m\u001b[0malbum\u001b[0m\u001b[0;34m)\u001b[0m\u001b[0;34m\u001b[0m\u001b[0m\n\u001b[0m\u001b[1;32m    159\u001b[0m             \u001b[0;32mif\u001b[0m \u001b[0mlyrics\u001b[0m \u001b[0;34m==\u001b[0m \u001b[0mNone\u001b[0m\u001b[0;34m:\u001b[0m\u001b[0;34m\u001b[0m\u001b[0m\n\u001b[1;32m    160\u001b[0m                 \u001b[0;32mcontinue\u001b[0m\u001b[0;34m\u001b[0m\u001b[0m\n",
      "\u001b[0;32m<ipython-input-35-749dd7d4d28c>\u001b[0m in \u001b[0;36mallLyricsInAlbum\u001b[0;34m(self, album)\u001b[0m\n\u001b[1;32m    119\u001b[0m             songParams = {\"track_id\": songId,\n\u001b[1;32m    120\u001b[0m                           \"apikey\": self.apikey}\n\u001b[0;32m--> 121\u001b[0;31m             \u001b[0mresponse\u001b[0m \u001b[0;34m=\u001b[0m \u001b[0mrequests\u001b[0m\u001b[0;34m.\u001b[0m\u001b[0mget\u001b[0m\u001b[0;34m(\u001b[0m\u001b[0msongUrl\u001b[0m\u001b[0;34m,\u001b[0m \u001b[0mparams\u001b[0m\u001b[0;34m=\u001b[0m\u001b[0msongParams\u001b[0m\u001b[0;34m)\u001b[0m\u001b[0;34m.\u001b[0m\u001b[0mjson\u001b[0m\u001b[0;34m(\u001b[0m\u001b[0;34m)\u001b[0m\u001b[0;34m\u001b[0m\u001b[0m\n\u001b[0m\u001b[1;32m    122\u001b[0m             \u001b[0mstatus_code\u001b[0m \u001b[0;34m=\u001b[0m \u001b[0mresponse\u001b[0m\u001b[0;34m[\u001b[0m\u001b[0;34m'message'\u001b[0m\u001b[0;34m]\u001b[0m\u001b[0;34m[\u001b[0m\u001b[0;34m'header'\u001b[0m\u001b[0;34m]\u001b[0m\u001b[0;34m[\u001b[0m\u001b[0;34m'status_code'\u001b[0m\u001b[0;34m]\u001b[0m\u001b[0;34m\u001b[0m\u001b[0m\n\u001b[1;32m    123\u001b[0m             \u001b[0;32mif\u001b[0m \u001b[0mstatus_code\u001b[0m \u001b[0;34m==\u001b[0m \u001b[0;36m200\u001b[0m\u001b[0;34m:\u001b[0m\u001b[0;34m\u001b[0m\u001b[0m\n",
      "\u001b[0;32m/usr/local/lib/python2.7/dist-packages/requests/api.pyc\u001b[0m in \u001b[0;36mget\u001b[0;34m(url, params, **kwargs)\u001b[0m\n\u001b[1;32m     65\u001b[0m \u001b[0;34m\u001b[0m\u001b[0m\n\u001b[1;32m     66\u001b[0m     \u001b[0mkwargs\u001b[0m\u001b[0;34m.\u001b[0m\u001b[0msetdefault\u001b[0m\u001b[0;34m(\u001b[0m\u001b[0;34m'allow_redirects'\u001b[0m\u001b[0;34m,\u001b[0m \u001b[0mTrue\u001b[0m\u001b[0;34m)\u001b[0m\u001b[0;34m\u001b[0m\u001b[0m\n\u001b[0;32m---> 67\u001b[0;31m     \u001b[0;32mreturn\u001b[0m \u001b[0mrequest\u001b[0m\u001b[0;34m(\u001b[0m\u001b[0;34m'get'\u001b[0m\u001b[0;34m,\u001b[0m \u001b[0murl\u001b[0m\u001b[0;34m,\u001b[0m \u001b[0mparams\u001b[0m\u001b[0;34m=\u001b[0m\u001b[0mparams\u001b[0m\u001b[0;34m,\u001b[0m \u001b[0;34m**\u001b[0m\u001b[0mkwargs\u001b[0m\u001b[0;34m)\u001b[0m\u001b[0;34m\u001b[0m\u001b[0m\n\u001b[0m\u001b[1;32m     68\u001b[0m \u001b[0;34m\u001b[0m\u001b[0m\n\u001b[1;32m     69\u001b[0m \u001b[0;34m\u001b[0m\u001b[0m\n",
      "\u001b[0;32m/usr/local/lib/python2.7/dist-packages/requests/api.pyc\u001b[0m in \u001b[0;36mrequest\u001b[0;34m(method, url, **kwargs)\u001b[0m\n\u001b[1;32m     51\u001b[0m     \u001b[0;31m# cases, and look like a memory leak in others.\u001b[0m\u001b[0;34m\u001b[0m\u001b[0;34m\u001b[0m\u001b[0m\n\u001b[1;32m     52\u001b[0m     \u001b[0;32mwith\u001b[0m \u001b[0msessions\u001b[0m\u001b[0;34m.\u001b[0m\u001b[0mSession\u001b[0m\u001b[0;34m(\u001b[0m\u001b[0;34m)\u001b[0m \u001b[0;32mas\u001b[0m \u001b[0msession\u001b[0m\u001b[0;34m:\u001b[0m\u001b[0;34m\u001b[0m\u001b[0m\n\u001b[0;32m---> 53\u001b[0;31m         \u001b[0;32mreturn\u001b[0m \u001b[0msession\u001b[0m\u001b[0;34m.\u001b[0m\u001b[0mrequest\u001b[0m\u001b[0;34m(\u001b[0m\u001b[0mmethod\u001b[0m\u001b[0;34m=\u001b[0m\u001b[0mmethod\u001b[0m\u001b[0;34m,\u001b[0m \u001b[0murl\u001b[0m\u001b[0;34m=\u001b[0m\u001b[0murl\u001b[0m\u001b[0;34m,\u001b[0m \u001b[0;34m**\u001b[0m\u001b[0mkwargs\u001b[0m\u001b[0;34m)\u001b[0m\u001b[0;34m\u001b[0m\u001b[0m\n\u001b[0m\u001b[1;32m     54\u001b[0m \u001b[0;34m\u001b[0m\u001b[0m\n\u001b[1;32m     55\u001b[0m \u001b[0;34m\u001b[0m\u001b[0m\n",
      "\u001b[0;32m/usr/local/lib/python2.7/dist-packages/requests/sessions.pyc\u001b[0m in \u001b[0;36mrequest\u001b[0;34m(self, method, url, params, data, headers, cookies, files, auth, timeout, allow_redirects, proxies, hooks, stream, verify, cert, json)\u001b[0m\n\u001b[1;32m    466\u001b[0m         }\n\u001b[1;32m    467\u001b[0m         \u001b[0msend_kwargs\u001b[0m\u001b[0;34m.\u001b[0m\u001b[0mupdate\u001b[0m\u001b[0;34m(\u001b[0m\u001b[0msettings\u001b[0m\u001b[0;34m)\u001b[0m\u001b[0;34m\u001b[0m\u001b[0m\n\u001b[0;32m--> 468\u001b[0;31m         \u001b[0mresp\u001b[0m \u001b[0;34m=\u001b[0m \u001b[0mself\u001b[0m\u001b[0;34m.\u001b[0m\u001b[0msend\u001b[0m\u001b[0;34m(\u001b[0m\u001b[0mprep\u001b[0m\u001b[0;34m,\u001b[0m \u001b[0;34m**\u001b[0m\u001b[0msend_kwargs\u001b[0m\u001b[0;34m)\u001b[0m\u001b[0;34m\u001b[0m\u001b[0m\n\u001b[0m\u001b[1;32m    469\u001b[0m \u001b[0;34m\u001b[0m\u001b[0m\n\u001b[1;32m    470\u001b[0m         \u001b[0;32mreturn\u001b[0m \u001b[0mresp\u001b[0m\u001b[0;34m\u001b[0m\u001b[0m\n",
      "\u001b[0;32m/usr/local/lib/python2.7/dist-packages/requests/sessions.pyc\u001b[0m in \u001b[0;36msend\u001b[0;34m(self, request, **kwargs)\u001b[0m\n\u001b[1;32m    574\u001b[0m \u001b[0;34m\u001b[0m\u001b[0m\n\u001b[1;32m    575\u001b[0m         \u001b[0;31m# Send the request\u001b[0m\u001b[0;34m\u001b[0m\u001b[0;34m\u001b[0m\u001b[0m\n\u001b[0;32m--> 576\u001b[0;31m         \u001b[0mr\u001b[0m \u001b[0;34m=\u001b[0m \u001b[0madapter\u001b[0m\u001b[0;34m.\u001b[0m\u001b[0msend\u001b[0m\u001b[0;34m(\u001b[0m\u001b[0mrequest\u001b[0m\u001b[0;34m,\u001b[0m \u001b[0;34m**\u001b[0m\u001b[0mkwargs\u001b[0m\u001b[0;34m)\u001b[0m\u001b[0;34m\u001b[0m\u001b[0m\n\u001b[0m\u001b[1;32m    577\u001b[0m \u001b[0;34m\u001b[0m\u001b[0m\n\u001b[1;32m    578\u001b[0m         \u001b[0;31m# Total elapsed time of the request (approximately)\u001b[0m\u001b[0;34m\u001b[0m\u001b[0;34m\u001b[0m\u001b[0m\n",
      "\u001b[0;32m/usr/local/lib/python2.7/dist-packages/requests/adapters.pyc\u001b[0m in \u001b[0;36msend\u001b[0;34m(self, request, stream, timeout, verify, cert, proxies)\u001b[0m\n\u001b[1;32m    374\u001b[0m                     \u001b[0mdecode_content\u001b[0m\u001b[0;34m=\u001b[0m\u001b[0mFalse\u001b[0m\u001b[0;34m,\u001b[0m\u001b[0;34m\u001b[0m\u001b[0m\n\u001b[1;32m    375\u001b[0m                     \u001b[0mretries\u001b[0m\u001b[0;34m=\u001b[0m\u001b[0mself\u001b[0m\u001b[0;34m.\u001b[0m\u001b[0mmax_retries\u001b[0m\u001b[0;34m,\u001b[0m\u001b[0;34m\u001b[0m\u001b[0m\n\u001b[0;32m--> 376\u001b[0;31m                     \u001b[0mtimeout\u001b[0m\u001b[0;34m=\u001b[0m\u001b[0mtimeout\u001b[0m\u001b[0;34m\u001b[0m\u001b[0m\n\u001b[0m\u001b[1;32m    377\u001b[0m                 )\n\u001b[1;32m    378\u001b[0m \u001b[0;34m\u001b[0m\u001b[0m\n",
      "\u001b[0;32m/usr/local/lib/python2.7/dist-packages/requests/packages/urllib3/connectionpool.pyc\u001b[0m in \u001b[0;36murlopen\u001b[0;34m(self, method, url, body, headers, retries, redirect, assert_same_host, timeout, pool_timeout, release_conn, **response_kw)\u001b[0m\n\u001b[1;32m    557\u001b[0m             httplib_response = self._make_request(conn, method, url,\n\u001b[1;32m    558\u001b[0m                                                   \u001b[0mtimeout\u001b[0m\u001b[0;34m=\u001b[0m\u001b[0mtimeout_obj\u001b[0m\u001b[0;34m,\u001b[0m\u001b[0;34m\u001b[0m\u001b[0m\n\u001b[0;32m--> 559\u001b[0;31m                                                   body=body, headers=headers)\n\u001b[0m\u001b[1;32m    560\u001b[0m \u001b[0;34m\u001b[0m\u001b[0m\n\u001b[1;32m    561\u001b[0m             \u001b[0;31m# If we're going to release the connection in ``finally:``, then\u001b[0m\u001b[0;34m\u001b[0m\u001b[0;34m\u001b[0m\u001b[0m\n",
      "\u001b[0;32m/usr/local/lib/python2.7/dist-packages/requests/packages/urllib3/connectionpool.pyc\u001b[0m in \u001b[0;36m_make_request\u001b[0;34m(self, conn, method, url, timeout, **httplib_request_kw)\u001b[0m\n\u001b[1;32m    374\u001b[0m         \u001b[0;32mtry\u001b[0m\u001b[0;34m:\u001b[0m\u001b[0;34m\u001b[0m\u001b[0m\n\u001b[1;32m    375\u001b[0m             \u001b[0;32mtry\u001b[0m\u001b[0;34m:\u001b[0m  \u001b[0;31m# Python 2.7, use buffering of HTTP responses\u001b[0m\u001b[0;34m\u001b[0m\u001b[0m\n\u001b[0;32m--> 376\u001b[0;31m                 \u001b[0mhttplib_response\u001b[0m \u001b[0;34m=\u001b[0m \u001b[0mconn\u001b[0m\u001b[0;34m.\u001b[0m\u001b[0mgetresponse\u001b[0m\u001b[0;34m(\u001b[0m\u001b[0mbuffering\u001b[0m\u001b[0;34m=\u001b[0m\u001b[0mTrue\u001b[0m\u001b[0;34m)\u001b[0m\u001b[0;34m\u001b[0m\u001b[0m\n\u001b[0m\u001b[1;32m    377\u001b[0m             \u001b[0;32mexcept\u001b[0m \u001b[0mTypeError\u001b[0m\u001b[0;34m:\u001b[0m  \u001b[0;31m# Python 2.6 and older\u001b[0m\u001b[0;34m\u001b[0m\u001b[0m\n\u001b[1;32m    378\u001b[0m                 \u001b[0mhttplib_response\u001b[0m \u001b[0;34m=\u001b[0m \u001b[0mconn\u001b[0m\u001b[0;34m.\u001b[0m\u001b[0mgetresponse\u001b[0m\u001b[0;34m(\u001b[0m\u001b[0;34m)\u001b[0m\u001b[0;34m\u001b[0m\u001b[0m\n",
      "\u001b[0;32m/usr/lib/python2.7/httplib.pyc\u001b[0m in \u001b[0;36mgetresponse\u001b[0;34m(self, buffering)\u001b[0m\n\u001b[1;32m   1087\u001b[0m         \u001b[0mresponse\u001b[0m \u001b[0;34m=\u001b[0m \u001b[0mself\u001b[0m\u001b[0;34m.\u001b[0m\u001b[0mresponse_class\u001b[0m\u001b[0;34m(\u001b[0m\u001b[0;34m*\u001b[0m\u001b[0margs\u001b[0m\u001b[0;34m,\u001b[0m \u001b[0;34m**\u001b[0m\u001b[0mkwds\u001b[0m\u001b[0;34m)\u001b[0m\u001b[0;34m\u001b[0m\u001b[0m\n\u001b[1;32m   1088\u001b[0m \u001b[0;34m\u001b[0m\u001b[0m\n\u001b[0;32m-> 1089\u001b[0;31m         \u001b[0mresponse\u001b[0m\u001b[0;34m.\u001b[0m\u001b[0mbegin\u001b[0m\u001b[0;34m(\u001b[0m\u001b[0;34m)\u001b[0m\u001b[0;34m\u001b[0m\u001b[0m\n\u001b[0m\u001b[1;32m   1090\u001b[0m         \u001b[0;32massert\u001b[0m \u001b[0mresponse\u001b[0m\u001b[0;34m.\u001b[0m\u001b[0mwill_close\u001b[0m \u001b[0;34m!=\u001b[0m \u001b[0m_UNKNOWN\u001b[0m\u001b[0;34m\u001b[0m\u001b[0m\n\u001b[1;32m   1091\u001b[0m         \u001b[0mself\u001b[0m\u001b[0;34m.\u001b[0m\u001b[0m__state\u001b[0m \u001b[0;34m=\u001b[0m \u001b[0m_CS_IDLE\u001b[0m\u001b[0;34m\u001b[0m\u001b[0m\n",
      "\u001b[0;32m/usr/lib/python2.7/httplib.pyc\u001b[0m in \u001b[0;36mbegin\u001b[0;34m(self)\u001b[0m\n\u001b[1;32m    442\u001b[0m         \u001b[0;31m# read until we get a non-100 response\u001b[0m\u001b[0;34m\u001b[0m\u001b[0;34m\u001b[0m\u001b[0m\n\u001b[1;32m    443\u001b[0m         \u001b[0;32mwhile\u001b[0m \u001b[0mTrue\u001b[0m\u001b[0;34m:\u001b[0m\u001b[0;34m\u001b[0m\u001b[0m\n\u001b[0;32m--> 444\u001b[0;31m             \u001b[0mversion\u001b[0m\u001b[0;34m,\u001b[0m \u001b[0mstatus\u001b[0m\u001b[0;34m,\u001b[0m \u001b[0mreason\u001b[0m \u001b[0;34m=\u001b[0m \u001b[0mself\u001b[0m\u001b[0;34m.\u001b[0m\u001b[0m_read_status\u001b[0m\u001b[0;34m(\u001b[0m\u001b[0;34m)\u001b[0m\u001b[0;34m\u001b[0m\u001b[0m\n\u001b[0m\u001b[1;32m    445\u001b[0m             \u001b[0;32mif\u001b[0m \u001b[0mstatus\u001b[0m \u001b[0;34m!=\u001b[0m \u001b[0mCONTINUE\u001b[0m\u001b[0;34m:\u001b[0m\u001b[0;34m\u001b[0m\u001b[0m\n\u001b[1;32m    446\u001b[0m                 \u001b[0;32mbreak\u001b[0m\u001b[0;34m\u001b[0m\u001b[0m\n",
      "\u001b[0;32m/usr/lib/python2.7/httplib.pyc\u001b[0m in \u001b[0;36m_read_status\u001b[0;34m(self)\u001b[0m\n\u001b[1;32m    398\u001b[0m     \u001b[0;32mdef\u001b[0m \u001b[0m_read_status\u001b[0m\u001b[0;34m(\u001b[0m\u001b[0mself\u001b[0m\u001b[0;34m)\u001b[0m\u001b[0;34m:\u001b[0m\u001b[0;34m\u001b[0m\u001b[0m\n\u001b[1;32m    399\u001b[0m         \u001b[0;31m# Initialize with Simple-Response defaults\u001b[0m\u001b[0;34m\u001b[0m\u001b[0;34m\u001b[0m\u001b[0m\n\u001b[0;32m--> 400\u001b[0;31m         \u001b[0mline\u001b[0m \u001b[0;34m=\u001b[0m \u001b[0mself\u001b[0m\u001b[0;34m.\u001b[0m\u001b[0mfp\u001b[0m\u001b[0;34m.\u001b[0m\u001b[0mreadline\u001b[0m\u001b[0;34m(\u001b[0m\u001b[0m_MAXLINE\u001b[0m \u001b[0;34m+\u001b[0m \u001b[0;36m1\u001b[0m\u001b[0;34m)\u001b[0m\u001b[0;34m\u001b[0m\u001b[0m\n\u001b[0m\u001b[1;32m    401\u001b[0m         \u001b[0;32mif\u001b[0m \u001b[0mlen\u001b[0m\u001b[0;34m(\u001b[0m\u001b[0mline\u001b[0m\u001b[0;34m)\u001b[0m \u001b[0;34m>\u001b[0m \u001b[0m_MAXLINE\u001b[0m\u001b[0;34m:\u001b[0m\u001b[0;34m\u001b[0m\u001b[0m\n\u001b[1;32m    402\u001b[0m             \u001b[0;32mraise\u001b[0m \u001b[0mLineTooLong\u001b[0m\u001b[0;34m(\u001b[0m\u001b[0;34m\"header line\"\u001b[0m\u001b[0;34m)\u001b[0m\u001b[0;34m\u001b[0m\u001b[0m\n",
      "\u001b[0;32m/usr/lib/python2.7/socket.pyc\u001b[0m in \u001b[0;36mreadline\u001b[0;34m(self, size)\u001b[0m\n\u001b[1;32m    474\u001b[0m             \u001b[0;32mwhile\u001b[0m \u001b[0mTrue\u001b[0m\u001b[0;34m:\u001b[0m\u001b[0;34m\u001b[0m\u001b[0m\n\u001b[1;32m    475\u001b[0m                 \u001b[0;32mtry\u001b[0m\u001b[0;34m:\u001b[0m\u001b[0;34m\u001b[0m\u001b[0m\n\u001b[0;32m--> 476\u001b[0;31m                     \u001b[0mdata\u001b[0m \u001b[0;34m=\u001b[0m \u001b[0mself\u001b[0m\u001b[0;34m.\u001b[0m\u001b[0m_sock\u001b[0m\u001b[0;34m.\u001b[0m\u001b[0mrecv\u001b[0m\u001b[0;34m(\u001b[0m\u001b[0mself\u001b[0m\u001b[0;34m.\u001b[0m\u001b[0m_rbufsize\u001b[0m\u001b[0;34m)\u001b[0m\u001b[0;34m\u001b[0m\u001b[0m\n\u001b[0m\u001b[1;32m    477\u001b[0m                 \u001b[0;32mexcept\u001b[0m \u001b[0merror\u001b[0m\u001b[0;34m,\u001b[0m \u001b[0me\u001b[0m\u001b[0;34m:\u001b[0m\u001b[0;34m\u001b[0m\u001b[0m\n\u001b[1;32m    478\u001b[0m                     \u001b[0;32mif\u001b[0m \u001b[0me\u001b[0m\u001b[0;34m.\u001b[0m\u001b[0margs\u001b[0m\u001b[0;34m[\u001b[0m\u001b[0;36m0\u001b[0m\u001b[0;34m]\u001b[0m \u001b[0;34m==\u001b[0m \u001b[0mEINTR\u001b[0m\u001b[0;34m:\u001b[0m\u001b[0;34m\u001b[0m\u001b[0m\n",
      "\u001b[0;31mKeyboardInterrupt\u001b[0m: "
     ]
    }
   ],
   "source": [
    "date_start = datetime(1990,1,1)\n",
    "date_end = datetime(1999,12,31)\n",
    "east_coast_lyrics = {artist: musicParser.getAllLyricsFromArtist(artist, date_start, date_end)\n",
    "                     for artist in east_coast_rappers}\n",
    "west_coast_lyrics = {artist: musicParser.getAllLyricsFromArtist(artist, date_start, date_end)\n",
    "                     for artist in west_coast_rappers}"
   ]
  },
  {
   "cell_type": "code",
   "execution_count": null,
   "metadata": {
    "collapsed": false
   },
   "outputs": [],
   "source": [
    "for (artist, lyrics) in east_coast_lyrics.iteritems():\n",
    "    print artist, len(lyrics)"
   ]
  },
  {
   "cell_type": "code",
   "execution_count": null,
   "metadata": {
    "collapsed": true
   },
   "outputs": [],
   "source": []
  }
 ],
 "metadata": {
  "anaconda-cloud": {},
  "kernelspec": {
   "display_name": "Python 2",
   "language": "python",
   "name": "python2"
  },
  "language_info": {
   "codemirror_mode": {
    "name": "ipython",
    "version": 2
   },
   "file_extension": ".py",
   "mimetype": "text/x-python",
   "name": "python",
   "nbconvert_exporter": "python",
   "pygments_lexer": "ipython2",
   "version": "2.7.6"
  }
 },
 "nbformat": 4,
 "nbformat_minor": 0
}

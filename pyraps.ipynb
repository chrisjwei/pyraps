{
 "cells": [
  {
   "cell_type": "markdown",
   "metadata": {
    "collapsed": true
   },
   "source": [
    "# pyraps\n",
    "\n",
    "For our final project, we will be attempting to classify rap styles based on song lyrics. We will be using a subsection of rap music published in the 1990's, where rap style from different geographical regions were distinct, which differs from modern rap music has become more of an almalgamation of the three main rap styles. The two main geographical regions we will be looking at are east-coast (New York City), west-coast (Los Angeles) - we may extend this to further classify more modern movements such as southern (Atlanta) and midwest (Detroit).\n",
    "\n",
    "Our project consists of three parts.\n",
    "\n",
    "1. Data Collection - We will build a database of lyrics from 1990's rap artists and label them based on the rappers style based on geographical location.\n",
    "2. Creating features - We will create features to capture the rhythm and rhyme of a song, as well as the particular lyrical content and vocabulary.\n",
    "3. Training a classifier - Using our features, we will train different types of classifiers and compare results."
   ]
  },
  {
   "cell_type": "markdown",
   "metadata": {},
   "source": [
    "## Creating Features\n",
    "\n",
    "We will be using two sets of information as features for our machine learning algorithms: lyrical content, in other words the actual words that are being used and the order in which those words occur in, and rhyme patterns along with rhythmic beats, which we will analyze using NLTK."
   ]
  },
  {
   "cell_type": "markdown",
   "metadata": {},
   "source": [
    "### Lyrical Content\n",
    "\n",
    "One easy way to generate features for this is to use a pretrained neural network that specifically handles text and drop the last layer (which converts their learned features to their expected output)."
   ]
  },
  {
   "cell_type": "markdown",
   "metadata": {},
   "source": [
    "### Rhyme Patterns\n",
    "\n",
    "Rhyme patterns are pretty interesting in the way it manifests itself in east-coast versus west-coast rap. East-coast tends to try to create intricate and interlacing rhyme patterns where as west-coast rap focuses more on creating a vibe rather than building intense rhyme structures. We can use this as another feature we can train on to provide better separation"
   ]
  },
  {
   "cell_type": "markdown",
   "metadata": {},
   "source": [
    "Lets take a look at a couple lines from Nas' \"NY State of Mind\", a classic east coast style song\n",
    "\n",
    "1. Rappers I <font color='blue'>monkey</font> <font color='red'>flip em</font> with the <font color='blue'>funky</font> <font color='red'>rhythm</font> I be <font color='red'>kickin'</font>\n",
    "2. <font color='red'>musician</font>, <font color='red'>inflictin</font> <font color='red'>composition</font>\n",
    "3. <font color='green'>of pain</font> I'm like Scarface <font color='red'>sniffin</font> <font color='green'>cocaine</font>\n",
    "4. Holdin a <font color='purple'>M-16</font>, see with the pen <font color='purple'>I'm extreme</font>, now\n",
    "\n",
    "Now lets take a look at a couple lines from 2Pac's California Love, a west coast style song\n",
    "\n",
    "1. Now let me welcome everybody to the wild, wild <font color='red'>west</font>\n",
    "2. A state that's untouchable like Elliot <font color='red'>Ness</font>\n",
    "3. The track hits ya eardrum like a slug to ya <font color='red'>chest</font>\n",
    "4. Pack a <font color='red'>vest</font> for your Jimmy in the city of <font color='red'>sex</font>\n",
    "\n",
    "We can immediately see a difference between the rhyme style between these two styles of rap. East coast tends to have more rhymes in general and focuses a lot more on variety of rhyme patterns interspersed throughout the lines, as opposed to west coast which focuses more on simpler last-word rhymes.\n",
    "\n",
    "How can we do this computationally? We will use CMU's pronuncation dictionary in the NLTK package."
   ]
  },
  {
   "cell_type": "code",
   "execution_count": null,
   "metadata": {
    "collapsed": false
   },
   "outputs": [],
   "source": [
    "import nltk\n",
    "from nltk.corpus import cmudict"
   ]
  },
  {
   "cell_type": "code",
   "execution_count": null,
   "metadata": {
    "collapsed": true
   },
   "outputs": [],
   "source": [
    "CMUDICT = cmudict.dict()"
   ]
  },
  {
   "cell_type": "code",
   "execution_count": null,
   "metadata": {
    "collapsed": false
   },
   "outputs": [],
   "source": [
    "class Pronunciation(object):\n",
    "    def __init__(self, word):\n",
    "        self.word = word\n",
    "        word = word.lower()\n",
    "        if word in CMUDICT:\n",
    "            self.pron = CMUDICT[word][0]\n",
    "            self.syllable_loc = [i for i in xrange(len(self.pron)) if self.pron[i][-1].isdigit()]\n",
    "        else:\n",
    "            # there are other NLTK libraries to guess word pronunciations\n",
    "            self.pron = None\n",
    "            self.syllable_loc = None\n",
    "    def __repr__(self):\n",
    "        if self.pron:\n",
    "            pron_repr =  \"/\".join(self.pron)\n",
    "        else:\n",
    "            pron_repr = \"?\"\n",
    "        return \"%s(%s)\" % (self.word,pron_repr)\n",
    "    \n",
    "    def rhyme_group(self):\n",
    "        if self.syllable_loc == []:\n",
    "            return \"/\".join(self.pron)\n",
    "        elif self.pron == None:\n",
    "            return \"UNKNOWN_GROUP\"\n",
    "        else:\n",
    "            return \"/\".join(self.pron[self.syllable_loc[-1]:])\n",
    "    \n",
    "    def __eq__(self,other):\n",
    "        return self.word.lower() == other.word.lower()\n",
    "    \n",
    "    def __hash__(self):\n",
    "        return hash(self.word.lower())\n",
    "    \n",
    "        \n",
    "\n",
    "def tokenize(s):\n",
    "    tokenizer = nltk.tokenize.RegexpTokenizer(r\"[\\w-]+'?[\\w-]*\")\n",
    "    tokenized_lines = [tokenizer.tokenize(line) for line in s.split(\"\\n\") if line]\n",
    "    return [[Pronunciation(token) for token in token_line] for token_line in tokenized_lines]\n",
    "    \n",
    "\n",
    "nas = '''Rappers I monkey flip em with the funky rhythm I be kicking\\nmusician, inflicting composition\\nof pain '''+\\\n",
    "      '''I'm like Scarface sniffing cocaine\\nHolding a M-16, see with the pen I'm extreme, now\\n\\n'''\n",
    "token_lines = tokenize(nas)\n",
    "for line in token_lines:\n",
    "    print line"
   ]
  },
  {
   "cell_type": "markdown",
   "metadata": {},
   "source": [
    "Now we need to define some sort of metric for rhyming words.\n",
    "We know that monkey(M/AH1/NG/K/IY0) rhymes with funky(F/AH1/NG/K/IY0) and is a perfect rhyme. Lets break this down. Monkey has two syllables and thus two stress vowels. These stress vowels mark separations of syllables - monkey can be broken down to (M/AH1/NG) and (K/IY0); funky can be broken down to (F/AH1/NG) and (K/IY0). Immediately, we see that the last two syllables rhyme because they are equal; the NG at the end of 'mon' and 'fun' also add to the rhyme scheme, but the relationship that causes this to be a strong rhyme is equivalence of the last syllable.\n",
    "\n",
    "Lets look at a harder example. flip(F/L/IH1/P), em(EH1/M) as a couple rhymes with rhythm(R/IH1/DH/AH0/M). To simplify things, lets just look at em(EH1/M) and rhythm(R/IH1/DH/AH0/M). This is a weak rhyme because the stress syllables are different but sound the same. This is another complication we need to take into account.\n",
    "\n",
    "Lets implement a quick naive rhyme scheme to see all of our strong rhymes..."
   ]
  },
  {
   "cell_type": "code",
   "execution_count": null,
   "metadata": {
    "collapsed": false
   },
   "outputs": [],
   "source": [
    "import collections\n",
    "def rhyme_groups_naive(tokens):\n",
    "    groups = collections.defaultdict(set)\n",
    "    for line in tokens:\n",
    "        for token in line:\n",
    "            group = token.rhyme_group()\n",
    "            groups[group].add(token)\n",
    "    return dict(groups)\n",
    "\n",
    "strong_rhyme_groups = rhyme_groups_naive(token_lines)\n",
    "\n",
    "for (k,v) in strong_rhyme_groups.iteritems():\n",
    "    if len(v) > 1:\n",
    "        print k, v"
   ]
  },
  {
   "cell_type": "markdown",
   "metadata": {},
   "source": [
    "Lets visualize this to see if it matches our manual rhyme above"
   ]
  },
  {
   "cell_type": "code",
   "execution_count": null,
   "metadata": {
    "collapsed": false
   },
   "outputs": [],
   "source": [
    "import IPython.display, random\n",
    "\n",
    "def random_color():\n",
    "    return \"#%03x\" % random.randint(0, 0xFFF)\n",
    "\n",
    "# get rid of solo groups\n",
    "groups = [[k,v] for (k,v) in strong_rhyme_groups.iteritems() if len(v) > 1 and k != \"UNKNOWN_GROUP\"]\n",
    "print groups\n",
    "# assign colors\n",
    "for group in groups:\n",
    "    group[0] = random_color()\n",
    "# reverse keys and value\n",
    "color_dict = dict(reduce(lambda x,y: x+y,[[(v_i,k) for v_i in v] for [k,v] in groups]))\n",
    "\n",
    "html = \"\"\n",
    "for token_line in token_lines:\n",
    "    for token in token_line:\n",
    "        if token in color_dict:\n",
    "            html += \"<b><font color=%s>%s</font></b> \" % (color_dict[token], token.word)\n",
    "        else:\n",
    "            html += token.word + \" \"\n",
    "    html += \"<br>\"\n",
    "        \n",
    "\n",
    "IPython.display.display_html(html, raw=True)"
   ]
  },
  {
   "cell_type": "markdown",
   "metadata": {},
   "source": [
    "## Musixmatch API\n",
    "\n",
    "In this section we will now start using the musixmatch api to start scraping some songs and their respective lyrics. We will import the standard python requests library and make calls to the api with our respective apikey that we regestered for. \n",
    "\n",
    "The standard format for the requests will be:\n",
    "\n",
    "\"http://api.musixmatch.com/ws/1.1/method?track_id=?&apikey=?\"\n",
    "\n",
    "where method are the API methods such as \"track.lyrics.get\", \"track.search\", \"chart.atrists.get\", and many others.\n",
    "We need to fill in a track_id for the song and our respective apikey."
   ]
  },
  {
   "cell_type": "code",
   "execution_count": 1,
   "metadata": {
    "collapsed": false
   },
   "outputs": [
    {
     "ename": "TypeError",
     "evalue": "string indices must be integers",
     "output_type": "error",
     "traceback": [
      "\u001b[0;31m---------------------------------------------------------------------------\u001b[0m",
      "\u001b[0;31mTypeError\u001b[0m                                 Traceback (most recent call last)",
      "\u001b[0;32m<ipython-input-1-29775c0d5950>\u001b[0m in \u001b[0;36m<module>\u001b[0;34m()\u001b[0m\n\u001b[1;32m      5\u001b[0m \u001b[0mly\u001b[0m \u001b[0;34m=\u001b[0m \u001b[0mlyrics\u001b[0m\u001b[0;34m.\u001b[0m\u001b[0mjson\u001b[0m\u001b[0;34m(\u001b[0m\u001b[0;34m)\u001b[0m\u001b[0;34m\u001b[0m\u001b[0m\n\u001b[1;32m      6\u001b[0m \u001b[0;34m\u001b[0m\u001b[0m\n\u001b[0;32m----> 7\u001b[0;31m \u001b[0;32mprint\u001b[0m \u001b[0mly\u001b[0m\u001b[0;34m[\u001b[0m\u001b[0;34m'message'\u001b[0m\u001b[0;34m]\u001b[0m\u001b[0;34m[\u001b[0m\u001b[0;34m'body'\u001b[0m\u001b[0;34m]\u001b[0m\u001b[0;34m[\u001b[0m\u001b[0;34m'lyrics'\u001b[0m\u001b[0;34m]\u001b[0m\u001b[0;34m[\u001b[0m\u001b[0;34m'lyrics_body'\u001b[0m\u001b[0;34m]\u001b[0m\u001b[0;34m\u001b[0m\u001b[0m\n\u001b[0m\u001b[1;32m      8\u001b[0m \u001b[0;34m\u001b[0m\u001b[0m\n\u001b[1;32m      9\u001b[0m \u001b[0;31m#JSON FORMAT\u001b[0m\u001b[0;34m\u001b[0m\u001b[0;34m\u001b[0m\u001b[0m\n",
      "\u001b[0;31mTypeError\u001b[0m: string indices must be integers"
     ]
    }
   ],
   "source": [
    "import requests\n",
    "\n",
    "#Small example how to use the musixmatch api to get track lyrics\n",
    "lyrics = requests.get(\"http://api.musixmatch.com/ws/1.1/track.lyrics.get?\"+\\\n",
    "                      \"track_id=15953433&apikey=2729a26dbacf9a7c354418c40912423f\")\n",
    "ly = lyrics.json()\n",
    "\n",
    "print ly['message']['body']['lyrics']['lyrics_body']\n",
    "\n",
    "#JSON FORMAT\n",
    "'''\n",
    "{\n",
    "  \"message\": {\n",
    "    \"header\": {\n",
    "      \"status_code\": 200,\n",
    "      \"execute_time\": 0.19601988792419\n",
    "    },\n",
    "    \"body\": {\n",
    "      \"lyrics\": {\n",
    "        \"lyrics_id\": 6471198,\n",
    "        \"restricted\": 0,\n",
    "        \"instrumental\": 0,\n",
    "        \"lyrics_body\": \"When I walk on by, girls be looking like damn he fly\\r\\n...,\n",
    "        \"lyrics_language\": \"en\",\n",
    "        \"script_tracking_url\": \"http:\\/\\/tracking.musixmatch.com\\/t1.0\\/5RIyfJ3c\",\n",
    "        \"pixel_tracking_url\": \"http:\\/\\/tracking.musixmatch.com\\/t1.0\\/5RIyfJ/\",\n",
    "        \"html_tracking_url\": \"http:\\/\\/tracking.musixmatch.com\\/t1.0\\/5RIyfJ3cC39\",\n",
    "        \"lyrics_copyright\": \"Lyrics powered by www.musiXmatch.com\",\n",
    "        \"updated_time\": \"2011-06-30T13:31:20Z\"\n",
    "      }\n",
    "    }\n",
    "  }\n",
    "}\n",
    "'''"
   ]
  },
  {
   "cell_type": "markdown",
   "metadata": {},
   "source": [
    "## Search Function\n",
    "\n",
    "The code below will now scrape the musixmatch database for you. All you need to do is pass in the correct song and title and the function will return the lyrics to you. The musixmatch api has a database full of songs where each song has a corresponding track id. The thing is that if we want the lyrics for a certain song then we need the respective track id. However now we just use the song's respective information to get the track id and then return the lyrics. We first split the artist and title into the correct format for the api call. Then we just use this information for the track id and lyrics following."
   ]
  },
  {
   "cell_type": "code",
   "execution_count": 12,
   "metadata": {
    "collapsed": false
   },
   "outputs": [],
   "source": [
    "from datetime import datetime\n",
    "class MusixApi:\n",
    "    def __init__(self, apikey):\n",
    "        self.apikey = apikey\n",
    "\n",
    "    def search(self,artist, title):\n",
    "        '''\n",
    "        Pass in artist/title and return song lyrics\n",
    "        Basic search capability\n",
    "        '''\n",
    "    \n",
    "        titleSplit = title.lower().split(' ')\n",
    "        artistSplit = artist.lower().split(' ')\n",
    "    \n",
    "        titleStr = '%20'.join(titleSplit)\n",
    "        artistStr = '%20'.join(artistSplit)\n",
    "        \n",
    "        url = \"http://api.musixmatch.com/ws/1.1/track.search?q_track=\" + titleStr + \\\n",
    "              \"&q_artist=\" + artistStr + \"&f_has_lyrics=1&apikey=\" + self.apikey\n",
    "        song = requests.get(url).json()\n",
    "    \n",
    "        trackID = song['message']['body']['track_list'][0]['track']['track_id']\n",
    "    \n",
    "        lyrics = requests.get(\"http://api.musixmatch.com/ws/1.1/track.lyrics.get?track_id=\" +\\\n",
    "                              str(trackID) + \"&apikey=\" + self.apikey)\n",
    " \n",
    "        ly = lyrics.json()\n",
    "\n",
    "        return ly['message']['body']['lyrics']['lyrics_body']\n",
    "    \n",
    "    def artistID(self, artist):\n",
    "        '''\n",
    "        This function returns the artist ID for an artist\n",
    "        \n",
    "        Input: An album name\n",
    "        Output: A list of all song lyrics for that album\n",
    "        \n",
    "        '''\n",
    "        \n",
    "        url = \"http://api.musixmatch.com/ws/1.1/artist.search?q_artist=\" + artist +\\\n",
    "              \"&page_size=5&apikey=\" + self.apikey\n",
    "        \n",
    "        artistJson = requests.get(url).json()\n",
    "        print artistJson['message']['header']['status_code']\n",
    "        artistList = artistJson['message']['body']['artist_list']\n",
    "        artistId = artistList[0]['artist']['artist_id']\n",
    "        return artistId\n",
    "    \n",
    "    \n",
    "    def allAlbums(self, artistID, limit=-1):\n",
    "        '''\n",
    "        This function returns all the album for a given artist ID\n",
    "        \n",
    "        Input: the ID of an artist\n",
    "        Output: a list of album\n",
    "        '''\n",
    "        \n",
    "        rez = []\n",
    "        url = \"http://api.musixmatch.com/ws/1.1/artist.albums.get?artist_id=\" + str(artistID) + \\\n",
    "              \"&s_release_date=desc&page_size=100&g_album_name=1&apikey=\" + self.apikey\n",
    "        \n",
    "        albumJson = requests.get(url).json()\n",
    "        print albumJson[\"message\"][\"header\"][\"status_code\"]\n",
    "        albumList = albumJson['message']['body']['album_list']\n",
    "        \n",
    "        \n",
    "        albumLength = len(albumList)\n",
    "        if albumLength == 100:\n",
    "            print \"Warning! artistID %d may have more albums\" % artistID\n",
    "        if limit >= 0:\n",
    "            for i in xrange(min(limit,albumLength)):\n",
    "                rez.append(albumList[i]['album'])\n",
    "        else:\n",
    "            rez = [albumResult[\"album\"] for albumResult in albumList]        \n",
    "        return rez\n",
    "    \n",
    "    \n",
    "    def allLyrics(self, albums):\n",
    "        '''\n",
    "        Input: A list of albums\n",
    "        Output: All song lyrics for the respective songs in those albums\n",
    "        \n",
    "        '''\n",
    "        \n",
    "        finalLyrics = []\n",
    "        albumIds = [album[\"album_id\"] for album in albums]\n",
    "        for albumID in albumIds:\n",
    "            url = \"http://api.musixmatch.com/ws/1.1/album.tracks.get?album_id=\" + str(albumID) + \\\n",
    "                  \"&page=1&page_size=100&apikey=\" + self.apikey\n",
    "            tracksJson = requests.get(url).json()\n",
    "            print tracksJson[\"message\"][\"header\"][\"status_code\"]\n",
    "            trackList = tracksJson['message']['body']['track_list']\n",
    "            for track in trackList:\n",
    "                songId = track['track']['track_id']\n",
    "                songUrl = \"http://api.musixmatch.com/ws/1.1/track.lyrics.get?track_id=\" +\\\n",
    "                           str(songId) + \"&apikey=\" + self.apikey\n",
    "                response = requests.get(songUrl).json()\n",
    "                if response['message']['header']['status_code'] == 200:\n",
    "                    finalLyrics.append(response['message']['body']['lyrics']['lyrics_body'])\n",
    "        \n",
    "      \n",
    "        return finalLyrics\n",
    "        \n",
    "    def getAllLyricsFromArtist(self, artist, date_start, date_end):\n",
    "        '''\n",
    "        Input: artist name and the range of album dates we want\n",
    "        Output: List of song lyrics from that arist in said date range\n",
    "        '''\n",
    "        def in_date_range(date_string, start, end):\n",
    "            try:\n",
    "                dt = datetime.strptime(date_string, \"%Y-%m-%d\")\n",
    "            except:\n",
    "                try:\n",
    "                    dt = datetime.strptime(date_string, \"%Y-%m\")\n",
    "                except:\n",
    "                    try:\n",
    "                        dt = datetime.strptime(date_string, \"%Y\")\n",
    "                    except:\n",
    "                        print \"%s: Invalid date encountered: %s\" % (artist, date_string)\n",
    "                        return False\n",
    "            return dt <= date_end and dt >= date_start\n",
    "        \n",
    "        artistID = self.artistID(artist)\n",
    "        albums = self.allAlbums(artistID)\n",
    "        albumsInRange = [album for album in albums if \n",
    "                         in_date_range(album[\"album_release_date\"], date_start, date_end)]\n",
    "        return self.allLyrics(albumsInRange)\n",
    "        \n",
    "        \n",
    "        \n",
    "        "
   ]
  },
  {
   "cell_type": "code",
   "execution_count": 13,
   "metadata": {
    "collapsed": false
   },
   "outputs": [
    {
     "name": "stdout",
     "output_type": "stream",
     "text": [
      "401\n"
     ]
    },
    {
     "ename": "TypeError",
     "evalue": "string indices must be integers",
     "output_type": "error",
     "traceback": [
      "\u001b[0;31m---------------------------------------------------------------------------\u001b[0m",
      "\u001b[0;31mTypeError\u001b[0m                                 Traceback (most recent call last)",
      "\u001b[0;32m<ipython-input-13-afc0ab294001>\u001b[0m in \u001b[0;36m<module>\u001b[0;34m()\u001b[0m\n\u001b[1;32m      9\u001b[0m \u001b[0;31m#for lyric in musicParser.allLyrics(albums):\u001b[0m\u001b[0;34m\u001b[0m\u001b[0;34m\u001b[0m\u001b[0m\n\u001b[1;32m     10\u001b[0m     \u001b[0;31m#print lyric\u001b[0m\u001b[0;34m\u001b[0m\u001b[0;34m\u001b[0m\u001b[0m\n\u001b[0;32m---> 11\u001b[0;31m \u001b[0mmusicParser\u001b[0m\u001b[0;34m.\u001b[0m\u001b[0mgetAllLyricsFromArtist\u001b[0m\u001b[0;34m(\u001b[0m\u001b[0;34m\"Coldplay\"\u001b[0m\u001b[0;34m,\u001b[0m \u001b[0mdatetime\u001b[0m\u001b[0;34m(\u001b[0m\u001b[0;36m2008\u001b[0m\u001b[0;34m,\u001b[0m\u001b[0;36m1\u001b[0m\u001b[0;34m,\u001b[0m\u001b[0;36m1\u001b[0m\u001b[0;34m)\u001b[0m\u001b[0;34m,\u001b[0m \u001b[0mdatetime\u001b[0m\u001b[0;34m(\u001b[0m\u001b[0;36m2009\u001b[0m\u001b[0;34m,\u001b[0m\u001b[0;36m1\u001b[0m\u001b[0;34m,\u001b[0m\u001b[0;36m1\u001b[0m\u001b[0;34m)\u001b[0m\u001b[0;34m)\u001b[0m\u001b[0;34m\u001b[0m\u001b[0m\n\u001b[0m",
      "\u001b[0;32m<ipython-input-12-583b3e3633d1>\u001b[0m in \u001b[0;36mgetAllLyricsFromArtist\u001b[0;34m(self, artist, date_start, date_end)\u001b[0m\n\u001b[1;32m    115\u001b[0m             \u001b[0;32mreturn\u001b[0m \u001b[0mdt\u001b[0m \u001b[0;34m<=\u001b[0m \u001b[0mdate_end\u001b[0m \u001b[0;32mand\u001b[0m \u001b[0mdt\u001b[0m \u001b[0;34m>=\u001b[0m \u001b[0mdate_start\u001b[0m\u001b[0;34m\u001b[0m\u001b[0m\n\u001b[1;32m    116\u001b[0m \u001b[0;34m\u001b[0m\u001b[0m\n\u001b[0;32m--> 117\u001b[0;31m         \u001b[0martistID\u001b[0m \u001b[0;34m=\u001b[0m \u001b[0mself\u001b[0m\u001b[0;34m.\u001b[0m\u001b[0martistID\u001b[0m\u001b[0;34m(\u001b[0m\u001b[0martist\u001b[0m\u001b[0;34m)\u001b[0m\u001b[0;34m\u001b[0m\u001b[0m\n\u001b[0m\u001b[1;32m    118\u001b[0m         \u001b[0malbums\u001b[0m \u001b[0;34m=\u001b[0m \u001b[0mself\u001b[0m\u001b[0;34m.\u001b[0m\u001b[0mallAlbums\u001b[0m\u001b[0;34m(\u001b[0m\u001b[0martistID\u001b[0m\u001b[0;34m)\u001b[0m\u001b[0;34m\u001b[0m\u001b[0m\n\u001b[1;32m    119\u001b[0m         albumsInRange = [album for album in albums if \n",
      "\u001b[0;32m<ipython-input-12-583b3e3633d1>\u001b[0m in \u001b[0;36martistID\u001b[0;34m(self, artist)\u001b[0m\n\u001b[1;32m     40\u001b[0m         \u001b[0martistJson\u001b[0m \u001b[0;34m=\u001b[0m \u001b[0mrequests\u001b[0m\u001b[0;34m.\u001b[0m\u001b[0mget\u001b[0m\u001b[0;34m(\u001b[0m\u001b[0murl\u001b[0m\u001b[0;34m)\u001b[0m\u001b[0;34m.\u001b[0m\u001b[0mjson\u001b[0m\u001b[0;34m(\u001b[0m\u001b[0;34m)\u001b[0m\u001b[0;34m\u001b[0m\u001b[0m\n\u001b[1;32m     41\u001b[0m         \u001b[0;32mprint\u001b[0m \u001b[0martistJson\u001b[0m\u001b[0;34m[\u001b[0m\u001b[0;34m'message'\u001b[0m\u001b[0;34m]\u001b[0m\u001b[0;34m[\u001b[0m\u001b[0;34m'header'\u001b[0m\u001b[0;34m]\u001b[0m\u001b[0;34m[\u001b[0m\u001b[0;34m'status_code'\u001b[0m\u001b[0;34m]\u001b[0m\u001b[0;34m\u001b[0m\u001b[0m\n\u001b[0;32m---> 42\u001b[0;31m         \u001b[0martistList\u001b[0m \u001b[0;34m=\u001b[0m \u001b[0martistJson\u001b[0m\u001b[0;34m[\u001b[0m\u001b[0;34m'message'\u001b[0m\u001b[0;34m]\u001b[0m\u001b[0;34m[\u001b[0m\u001b[0;34m'body'\u001b[0m\u001b[0;34m]\u001b[0m\u001b[0;34m[\u001b[0m\u001b[0;34m'artist_list'\u001b[0m\u001b[0;34m]\u001b[0m\u001b[0;34m\u001b[0m\u001b[0m\n\u001b[0m\u001b[1;32m     43\u001b[0m         \u001b[0martistId\u001b[0m \u001b[0;34m=\u001b[0m \u001b[0martistList\u001b[0m\u001b[0;34m[\u001b[0m\u001b[0;36m0\u001b[0m\u001b[0;34m]\u001b[0m\u001b[0;34m[\u001b[0m\u001b[0;34m'artist'\u001b[0m\u001b[0;34m]\u001b[0m\u001b[0;34m[\u001b[0m\u001b[0;34m'artist_id'\u001b[0m\u001b[0;34m]\u001b[0m\u001b[0;34m\u001b[0m\u001b[0m\n\u001b[1;32m     44\u001b[0m         \u001b[0;32mreturn\u001b[0m \u001b[0martistId\u001b[0m\u001b[0;34m\u001b[0m\u001b[0m\n",
      "\u001b[0;31mTypeError\u001b[0m: string indices must be integers"
     ]
    }
   ],
   "source": [
    "import json\n",
    "with open(\"secrets.json\", \"r\") as f:\n",
    "    musicParser = MusixApi(json.load(f)[\"musixApiKey\"])\n",
    "\n",
    "#search(\"Taylor Swift\", \"Back To December\")\n",
    "#print musicParser.search(\"Mobb Deep\", \"Survival of the Fittest\")\n",
    "#ID = musicParser.artistID(\"Coldplay\")\n",
    "#albums = musicParser.allAlbums(ID)\n",
    "#for lyric in musicParser.allLyrics(albums):\n",
    "    #print lyric\n",
    "musicParser.getAllLyricsFromArtist(\"Coldplay\", datetime(2008,1,1), datetime(2009,1,1))"
   ]
  },
  {
   "cell_type": "markdown",
   "metadata": {},
   "source": [
    "Phenomenal! We pretty much have most of the functions we need to start scraping the musixmatch library for all our rap lyrics. We have everything we need. Now we'll just get some real data like a csv file of rapper names! We'll use the rapper names to generate all songs that rapper has created recently. So if we input a csv file of say ['Ice Cube', 'Kanye', ...], then we can return all the rap lyrics for those guys!"
   ]
  },
  {
   "cell_type": "markdown",
   "metadata": {},
   "source": [
    "## Building a hip-hop lyrics database\n",
    "\n",
    "After meticulous research, we have compiled a list of hip-hop artists from the 90's that are representative of either East-Coast hip-hop or West-Coast hip-hop. In this section, we will scrape the actual data that we will be using for this project."
   ]
  },
  {
   "cell_type": "code",
   "execution_count": 7,
   "metadata": {
    "collapsed": false
   },
   "outputs": [],
   "source": [
    "east_coast_rappers = [\"Notorious BIG\", \"Nas\", \"Wu-Tang Clan\", \"Jay-Z\", \"DMX\", \"Rakim\",\n",
    "                      \"Method Man\", \"Busta Rhymes\", \"Run-DMC\", \"Public Enemy\", \"Mobb Deep\",\n",
    "                      \"KRS-One\", \"50 Cent\", \"Big L\", \"LL Cool J\", \"Ghostface Killah\",\n",
    "                      \"Ol' Dirty Bastard\", \"Raekwon\", \"A Tribe Called Quest\",\n",
    "                      \"Big Daddy Kane\",\"Gang Starr\", \"GZA\", \"Redman\", \"Mos Def\", \"Q-Tip\"]\n",
    "west_coast_rappers = [\"Tupac Shakur\", \"Ice Cube\", \"Dr. Dre\", \"Snoop Dogg\", \"N.W.A\",\n",
    "                      \"Nate Dogg\", \"Warren G\", \"MC Ren\", \"Eazy-E\", \"Ice-T\"]"
   ]
  },
  {
   "cell_type": "code",
   "execution_count": 8,
   "metadata": {
    "collapsed": false
   },
   "outputs": [
    {
     "name": "stdout",
     "output_type": "stream",
     "text": [
      "Wu-Tang Clan: Invalid date encountered: \n",
      "Wu-Tang Clan: Invalid date encountered: \n",
      "Wu-Tang Clan: Invalid date encountered: \n",
      "Wu-Tang Clan: Invalid date encountered: \n",
      "Wu-Tang Clan: Invalid date encountered: \n",
      "Wu-Tang Clan: Invalid date encountered: \n",
      "Wu-Tang Clan: Invalid date encountered: \n",
      "Wu-Tang Clan: Invalid date encountered: \n",
      "Wu-Tang Clan: Invalid date encountered: \n",
      "Wu-Tang Clan: Invalid date encountered: \n",
      "Wu-Tang Clan: Invalid date encountered: \n",
      "Wu-Tang Clan: Invalid date encountered: \n",
      "Wu-Tang Clan: Invalid date encountered: \n",
      "Wu-Tang Clan: Invalid date encountered: \n",
      "Wu-Tang Clan: Invalid date encountered: \n",
      "Wu-Tang Clan: Invalid date encountered: \n",
      "DMX: Invalid date encountered: \n",
      "DMX: Invalid date encountered: \n",
      "DMX: Invalid date encountered: \n",
      "DMX: Invalid date encountered: \n",
      "DMX: Invalid date encountered: \n",
      "DMX: Invalid date encountered: \n",
      "DMX: Invalid date encountered: \n",
      "DMX: Invalid date encountered: \n",
      "DMX: Invalid date encountered: \n",
      "DMX: Invalid date encountered: \n"
     ]
    },
    {
     "ename": "TypeError",
     "evalue": "string indices must be integers",
     "output_type": "error",
     "traceback": [
      "\u001b[0;31m---------------------------------------------------------------------------\u001b[0m",
      "\u001b[0;31mTypeError\u001b[0m                                 Traceback (most recent call last)",
      "\u001b[0;32m<ipython-input-8-0b2a54d81623>\u001b[0m in \u001b[0;36m<module>\u001b[0;34m()\u001b[0m\n\u001b[1;32m      2\u001b[0m \u001b[0mdate_end\u001b[0m \u001b[0;34m=\u001b[0m \u001b[0mdatetime\u001b[0m\u001b[0;34m(\u001b[0m\u001b[0;36m1999\u001b[0m\u001b[0;34m,\u001b[0m\u001b[0;36m12\u001b[0m\u001b[0;34m,\u001b[0m\u001b[0;36m31\u001b[0m\u001b[0;34m)\u001b[0m\u001b[0;34m\u001b[0m\u001b[0m\n\u001b[1;32m      3\u001b[0m east_coast_lyrics = {artist: musicParser.getAllLyricsFromArtist(artist, date_start, date_end)\n\u001b[0;32m----> 4\u001b[0;31m                      for artist in east_coast_rappers}\n\u001b[0m\u001b[1;32m      5\u001b[0m west_coast_lyrics = {artist: musicParser.getAllLyricsFromArtist(artist, date_start, date_end)\n\u001b[1;32m      6\u001b[0m                      for artist in west_coast_rappers}\n",
      "\u001b[0;32m<ipython-input-8-0b2a54d81623>\u001b[0m in \u001b[0;36m<dictcomp>\u001b[0;34m((artist,))\u001b[0m\n\u001b[1;32m      2\u001b[0m \u001b[0mdate_end\u001b[0m \u001b[0;34m=\u001b[0m \u001b[0mdatetime\u001b[0m\u001b[0;34m(\u001b[0m\u001b[0;36m1999\u001b[0m\u001b[0;34m,\u001b[0m\u001b[0;36m12\u001b[0m\u001b[0;34m,\u001b[0m\u001b[0;36m31\u001b[0m\u001b[0;34m)\u001b[0m\u001b[0;34m\u001b[0m\u001b[0m\n\u001b[1;32m      3\u001b[0m east_coast_lyrics = {artist: musicParser.getAllLyricsFromArtist(artist, date_start, date_end)\n\u001b[0;32m----> 4\u001b[0;31m                      for artist in east_coast_rappers}\n\u001b[0m\u001b[1;32m      5\u001b[0m west_coast_lyrics = {artist: musicParser.getAllLyricsFromArtist(artist, date_start, date_end)\n\u001b[1;32m      6\u001b[0m                      for artist in west_coast_rappers}\n",
      "\u001b[0;32m<ipython-input-2-9c3132d863cc>\u001b[0m in \u001b[0;36mgetAllLyricsFromArtist\u001b[0;34m(self, artist, date_start, date_end)\u001b[0m\n\u001b[1;32m    114\u001b[0m         albumsInRange = [album for album in albums if \n\u001b[1;32m    115\u001b[0m                          in_date_range(album[\"album_release_date\"], date_start, date_end)]\n\u001b[0;32m--> 116\u001b[0;31m         \u001b[0;32mreturn\u001b[0m \u001b[0mself\u001b[0m\u001b[0;34m.\u001b[0m\u001b[0mallLyrics\u001b[0m\u001b[0;34m(\u001b[0m\u001b[0malbumsInRange\u001b[0m\u001b[0;34m)\u001b[0m\u001b[0;34m\u001b[0m\u001b[0m\n\u001b[0m\u001b[1;32m    117\u001b[0m \u001b[0;34m\u001b[0m\u001b[0m\n\u001b[1;32m    118\u001b[0m \u001b[0;34m\u001b[0m\u001b[0m\n",
      "\u001b[0;32m<ipython-input-2-9c3132d863cc>\u001b[0m in \u001b[0;36mallLyrics\u001b[0;34m(self, albums)\u001b[0m\n\u001b[1;32m     80\u001b[0m             \u001b[0murl\u001b[0m \u001b[0;34m=\u001b[0m \u001b[0;34m\"http://api.musixmatch.com/ws/1.1/album.tracks.get?album_id=\"\u001b[0m \u001b[0;34m+\u001b[0m \u001b[0mstr\u001b[0m\u001b[0;34m(\u001b[0m\u001b[0malbumID\u001b[0m\u001b[0;34m)\u001b[0m \u001b[0;34m+\u001b[0m                   \u001b[0;34m\"&page=1&page_size=10&apikey=\"\u001b[0m \u001b[0;34m+\u001b[0m \u001b[0mself\u001b[0m\u001b[0;34m.\u001b[0m\u001b[0mapikey\u001b[0m\u001b[0;34m\u001b[0m\u001b[0m\n\u001b[1;32m     81\u001b[0m             \u001b[0mtracksJson\u001b[0m \u001b[0;34m=\u001b[0m \u001b[0mrequests\u001b[0m\u001b[0;34m.\u001b[0m\u001b[0mget\u001b[0m\u001b[0;34m(\u001b[0m\u001b[0murl\u001b[0m\u001b[0;34m)\u001b[0m\u001b[0;34m.\u001b[0m\u001b[0mjson\u001b[0m\u001b[0;34m(\u001b[0m\u001b[0;34m)\u001b[0m\u001b[0;34m\u001b[0m\u001b[0m\n\u001b[0;32m---> 82\u001b[0;31m             \u001b[0mtrackList\u001b[0m \u001b[0;34m=\u001b[0m \u001b[0mtracksJson\u001b[0m\u001b[0;34m[\u001b[0m\u001b[0;34m'message'\u001b[0m\u001b[0;34m]\u001b[0m\u001b[0;34m[\u001b[0m\u001b[0;34m'body'\u001b[0m\u001b[0;34m]\u001b[0m\u001b[0;34m[\u001b[0m\u001b[0;34m'track_list'\u001b[0m\u001b[0;34m]\u001b[0m\u001b[0;34m\u001b[0m\u001b[0m\n\u001b[0m\u001b[1;32m     83\u001b[0m             \u001b[0;32mfor\u001b[0m \u001b[0mtrack\u001b[0m \u001b[0;32min\u001b[0m \u001b[0mtrackList\u001b[0m\u001b[0;34m:\u001b[0m\u001b[0;34m\u001b[0m\u001b[0m\n\u001b[1;32m     84\u001b[0m                 \u001b[0msongId\u001b[0m \u001b[0;34m=\u001b[0m \u001b[0mtrack\u001b[0m\u001b[0;34m[\u001b[0m\u001b[0;34m'track'\u001b[0m\u001b[0;34m]\u001b[0m\u001b[0;34m[\u001b[0m\u001b[0;34m'track_id'\u001b[0m\u001b[0;34m]\u001b[0m\u001b[0;34m\u001b[0m\u001b[0m\n",
      "\u001b[0;31mTypeError\u001b[0m: string indices must be integers"
     ]
    }
   ],
   "source": [
    "date_start = datetime(1990,1,1)\n",
    "date_end = datetime(1999,12,31)\n",
    "east_coast_lyrics = {artist: musicParser.getAllLyricsFromArtist(artist, date_start, date_end)\n",
    "                     for artist in east_coast_rappers}\n",
    "west_coast_lyrics = {artist: musicParser.getAllLyricsFromArtist(artist, date_start, date_end)\n",
    "                     for artist in west_coast_rappers}"
   ]
  },
  {
   "cell_type": "code",
   "execution_count": null,
   "metadata": {
    "collapsed": false
   },
   "outputs": [],
   "source": [
    "for (artist, lyrics) in east_coast_lyrics.iteritems():\n",
    "    print artist, len(lyrics)"
   ]
  },
  {
   "cell_type": "code",
   "execution_count": null,
   "metadata": {
    "collapsed": true
   },
   "outputs": [],
   "source": []
  }
 ],
 "metadata": {
  "anaconda-cloud": {},
  "kernelspec": {
   "display_name": "Python 2",
   "language": "python",
   "name": "python2"
  },
  "language_info": {
   "codemirror_mode": {
    "name": "ipython",
    "version": 2
   },
   "file_extension": ".py",
   "mimetype": "text/x-python",
   "name": "python",
   "nbconvert_exporter": "python",
   "pygments_lexer": "ipython2",
   "version": "2.7.6"
  }
 },
 "nbformat": 4,
 "nbformat_minor": 0
}
